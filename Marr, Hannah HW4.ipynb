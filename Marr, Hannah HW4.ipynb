{
 "cells": [
  {
   "cell_type": "markdown",
   "metadata": {},
   "source": [
    "# Homework 4\n",
    "\n",
    "### Name: Hannah Marr\n",
    "### Collaborator:\n",
    "\n",
    "\n",
    "DATA 201\n",
    "\n",
    "Fall 2024\n",
    "\n",
    "Tufts University"
   ]
  },
  {
   "cell_type": "markdown",
   "metadata": {},
   "source": [
    "# Part 1 - Linear Regression"
   ]
  },
  {
   "cell_type": "markdown",
   "metadata": {},
   "source": [
    "### Packages"
   ]
  },
  {
   "cell_type": "code",
   "execution_count": 3,
   "metadata": {},
   "outputs": [],
   "source": [
    "import pandas as pd\n",
    "import numpy as np\n",
    "import matplotlib.pyplot as plt\n",
    "import seaborn as sns\n",
    "\n",
    "from sklearn.linear_model import LinearRegression\n",
    "from sklearn.model_selection import train_test_split\n",
    "from sklearn import metrics\n",
    "from sklearn.metrics import mean_squared_error\n",
    "from sklearn.metrics import r2_score"
   ]
  },
  {
   "cell_type": "markdown",
   "metadata": {},
   "source": [
    "## Question 1\n",
    "(a) Read in 'Fish.csv' as a dataframe. How many different species of fish does the dataset contain? Use the LabelEncoder to transform the species column. "
   ]
  },
  {
   "cell_type": "code",
   "execution_count": 9,
   "metadata": {},
   "outputs": [
    {
     "data": {
      "text/html": [
       "<div>\n",
       "<style scoped>\n",
       "    .dataframe tbody tr th:only-of-type {\n",
       "        vertical-align: middle;\n",
       "    }\n",
       "\n",
       "    .dataframe tbody tr th {\n",
       "        vertical-align: top;\n",
       "    }\n",
       "\n",
       "    .dataframe thead th {\n",
       "        text-align: right;\n",
       "    }\n",
       "</style>\n",
       "<table border=\"1\" class=\"dataframe\">\n",
       "  <thead>\n",
       "    <tr style=\"text-align: right;\">\n",
       "      <th></th>\n",
       "      <th>Species</th>\n",
       "      <th>Weight</th>\n",
       "      <th>Length1</th>\n",
       "      <th>Length2</th>\n",
       "      <th>Length3</th>\n",
       "      <th>Height</th>\n",
       "      <th>Width</th>\n",
       "    </tr>\n",
       "  </thead>\n",
       "  <tbody>\n",
       "    <tr>\n",
       "      <th>0</th>\n",
       "      <td>Bream</td>\n",
       "      <td>242.0</td>\n",
       "      <td>23.2</td>\n",
       "      <td>25.4</td>\n",
       "      <td>30.0</td>\n",
       "      <td>11.5200</td>\n",
       "      <td>4.0200</td>\n",
       "    </tr>\n",
       "    <tr>\n",
       "      <th>1</th>\n",
       "      <td>Bream</td>\n",
       "      <td>290.0</td>\n",
       "      <td>24.0</td>\n",
       "      <td>26.3</td>\n",
       "      <td>31.2</td>\n",
       "      <td>12.4800</td>\n",
       "      <td>4.3056</td>\n",
       "    </tr>\n",
       "    <tr>\n",
       "      <th>2</th>\n",
       "      <td>Bream</td>\n",
       "      <td>340.0</td>\n",
       "      <td>23.9</td>\n",
       "      <td>26.5</td>\n",
       "      <td>31.1</td>\n",
       "      <td>12.3778</td>\n",
       "      <td>4.6961</td>\n",
       "    </tr>\n",
       "    <tr>\n",
       "      <th>3</th>\n",
       "      <td>Bream</td>\n",
       "      <td>363.0</td>\n",
       "      <td>26.3</td>\n",
       "      <td>29.0</td>\n",
       "      <td>33.5</td>\n",
       "      <td>12.7300</td>\n",
       "      <td>4.4555</td>\n",
       "    </tr>\n",
       "    <tr>\n",
       "      <th>4</th>\n",
       "      <td>Bream</td>\n",
       "      <td>430.0</td>\n",
       "      <td>26.5</td>\n",
       "      <td>29.0</td>\n",
       "      <td>34.0</td>\n",
       "      <td>12.4440</td>\n",
       "      <td>5.1340</td>\n",
       "    </tr>\n",
       "  </tbody>\n",
       "</table>\n",
       "</div>"
      ],
      "text/plain": [
       "  Species  Weight  Length1  Length2  Length3   Height   Width\n",
       "0   Bream   242.0     23.2     25.4     30.0  11.5200  4.0200\n",
       "1   Bream   290.0     24.0     26.3     31.2  12.4800  4.3056\n",
       "2   Bream   340.0     23.9     26.5     31.1  12.3778  4.6961\n",
       "3   Bream   363.0     26.3     29.0     33.5  12.7300  4.4555\n",
       "4   Bream   430.0     26.5     29.0     34.0  12.4440  5.1340"
      ]
     },
     "execution_count": 9,
     "metadata": {},
     "output_type": "execute_result"
    }
   ],
   "source": [
    "# 1. a. Read in 'Fish.csv' as a dataframe\n",
    "fish = pd.read_csv('/Users/hannahmarr/Desktop/Tufts/DATA201/Fish.csv')\n",
    "fish.head()"
   ]
  },
  {
   "cell_type": "code",
   "execution_count": 11,
   "metadata": {},
   "outputs": [
    {
     "data": {
      "text/plain": [
       "7"
      ]
     },
     "execution_count": 11,
     "metadata": {},
     "output_type": "execute_result"
    }
   ],
   "source": [
    "# 1. a. Determine how many different species of fish the dataset contains\n",
    "unique_species_count = fish['Species'].nunique()\n",
    "unique_species_count"
   ]
  },
  {
   "cell_type": "code",
   "execution_count": 13,
   "metadata": {},
   "outputs": [
    {
     "data": {
      "text/html": [
       "<div>\n",
       "<style scoped>\n",
       "    .dataframe tbody tr th:only-of-type {\n",
       "        vertical-align: middle;\n",
       "    }\n",
       "\n",
       "    .dataframe tbody tr th {\n",
       "        vertical-align: top;\n",
       "    }\n",
       "\n",
       "    .dataframe thead th {\n",
       "        text-align: right;\n",
       "    }\n",
       "</style>\n",
       "<table border=\"1\" class=\"dataframe\">\n",
       "  <thead>\n",
       "    <tr style=\"text-align: right;\">\n",
       "      <th></th>\n",
       "      <th>Species</th>\n",
       "      <th>Species_encoded</th>\n",
       "    </tr>\n",
       "  </thead>\n",
       "  <tbody>\n",
       "    <tr>\n",
       "      <th>0</th>\n",
       "      <td>Bream</td>\n",
       "      <td>0</td>\n",
       "    </tr>\n",
       "    <tr>\n",
       "      <th>1</th>\n",
       "      <td>Bream</td>\n",
       "      <td>0</td>\n",
       "    </tr>\n",
       "    <tr>\n",
       "      <th>2</th>\n",
       "      <td>Bream</td>\n",
       "      <td>0</td>\n",
       "    </tr>\n",
       "    <tr>\n",
       "      <th>3</th>\n",
       "      <td>Bream</td>\n",
       "      <td>0</td>\n",
       "    </tr>\n",
       "    <tr>\n",
       "      <th>4</th>\n",
       "      <td>Bream</td>\n",
       "      <td>0</td>\n",
       "    </tr>\n",
       "  </tbody>\n",
       "</table>\n",
       "</div>"
      ],
      "text/plain": [
       "  Species  Species_encoded\n",
       "0   Bream                0\n",
       "1   Bream                0\n",
       "2   Bream                0\n",
       "3   Bream                0\n",
       "4   Bream                0"
      ]
     },
     "execution_count": 13,
     "metadata": {},
     "output_type": "execute_result"
    }
   ],
   "source": [
    "# 1. a. Use LabelEncoder to transform the species column.\n",
    "from sklearn.preprocessing import LabelEncoder\n",
    "\n",
    "# Initialize the LabelEncoder\n",
    "label_encoder = LabelEncoder()\n",
    "\n",
    "# Transform the 'Species' column\n",
    "fish['Species_encoded'] = label_encoder.fit_transform(fish['Species'])\n",
    "\n",
    "# Display the first few rows to show the transformed column\n",
    "fish[['Species', 'Species_encoded']].head()"
   ]
  },
  {
   "cell_type": "markdown",
   "metadata": {},
   "source": [
    "(b) Separate the dataframe into an $X$ and $y$ variable, for this data our response variable / predicted variable is going to be the column 'Weight'. "
   ]
  },
  {
   "cell_type": "code",
   "execution_count": 17,
   "metadata": {},
   "outputs": [
    {
     "data": {
      "text/plain": [
       "((159, 6), (159,))"
      ]
     },
     "execution_count": 17,
     "metadata": {},
     "output_type": "execute_result"
    }
   ],
   "source": [
    "# 1. b. \n",
    "# Define X as the feature variables and y as the target variable\n",
    "X = fish.drop(columns=['Weight', 'Species'])  # Drop the target column from the features, as well as the non-encoded Species column to ensure numeric data only\n",
    "y = fish['Weight']  # Define the target variable\n",
    "\n",
    "# Display the shapes of X and y to confirm the separation\n",
    "X.shape, y.shape"
   ]
  },
  {
   "cell_type": "markdown",
   "metadata": {},
   "source": [
    "(c) Split the $X$ and $y$ data into train and test sets (with test_size = 20), and run linear regression on the train set. "
   ]
  },
  {
   "cell_type": "code",
   "execution_count": 29,
   "metadata": {},
   "outputs": [
    {
     "name": "stdout",
     "output_type": "stream",
     "text": [
      "Train set MSE: 13770.21197105879\n",
      "Train set R2: 0.8882202772056529\n"
     ]
    }
   ],
   "source": [
    "# 1. c.\n",
    "# Split the data into train and test sets with a test size of 20 samples\n",
    "X_train, X_test, y_train, y_test = train_test_split(X, y, test_size=20, random_state=42)\n",
    "\n",
    "# Initialize and fit the Linear Regression model\n",
    "lin_reg_model = LinearRegression()\n",
    "lin_reg_model.fit(X_train, y_train)\n",
    "\n",
    "# Make predictions on the train set\n",
    "y_train_pred = lin_reg_model.predict(X_train)\n",
    "\n",
    "# Calculate performance metrics on the train set\n",
    "train_mse = mean_squared_error(y_train, y_train_pred)\n",
    "train_r2 = r2_score(y_train, y_train_pred)\n",
    "\n",
    "print('Train set MSE:', train_mse)\n",
    "print('Train set R2:', train_r2)"
   ]
  },
  {
   "cell_type": "markdown",
   "metadata": {},
   "source": [
    "(d) Report the MSE and r^2 metrics for the test set."
   ]
  },
  {
   "cell_type": "code",
   "execution_count": 31,
   "metadata": {},
   "outputs": [
    {
     "name": "stdout",
     "output_type": "stream",
     "text": [
      "Train set MSE: 11479.353566283946\n",
      "Train set R2: 0.9232041244316285\n"
     ]
    }
   ],
   "source": [
    "# 1. d.\n",
    "# Make predictions on the test set\n",
    "y_test_pred = lin_reg_model.predict(X_test)\n",
    "\n",
    "# Calculate performance metrics on the test set\n",
    "test_mse = mean_squared_error(y_test, y_test_pred)\n",
    "test_r2 = r2_score(y_test, y_test_pred)\n",
    "\n",
    "print('Train set MSE:', test_mse)\n",
    "print('Train set R2:', test_r2)"
   ]
  },
  {
   "cell_type": "markdown",
   "metadata": {},
   "source": [
    "## Question 2\n",
    "Write a function that will compute the MSE of a set of true variables and its corresponding predicted variables. This function should take in two variables, a y_test set and a y_pred set, and it should return a single number. Test to see if your function gives the same output as the built in MSE function."
   ]
  },
  {
   "cell_type": "code",
   "execution_count": 33,
   "metadata": {},
   "outputs": [
    {
     "data": {
      "text/plain": [
       "(11479.353566283948, 11479.353566283946)"
      ]
     },
     "execution_count": 33,
     "metadata": {},
     "output_type": "execute_result"
    }
   ],
   "source": [
    "# 2. Define a function to calculate the Mean Squared Error manually\n",
    "def compute_mse(y_test, y_pred):\n",
    "    \"\"\"\n",
    "    Compute the Mean Squared Error between the true and predicted values.\n",
    "    \n",
    "    Parameters:\n",
    "    y_test (array-like): Array of true target values.\n",
    "    y_pred (array-like): Array of predicted target values.\n",
    "    \n",
    "    Returns:\n",
    "    float: The Mean Squared Error.\n",
    "    \"\"\"\n",
    "    mse = sum((y_test - y_pred) ** 2) / len(y_test)\n",
    "    return mse\n",
    "\n",
    "# Test the function with y_test and y_test_pred and compare with the built-in mean_squared_error function\n",
    "custom_mse = compute_mse(y_test, y_test_pred)\n",
    "builtin_mse = mean_squared_error(y_test, y_test_pred)\n",
    "\n",
    "custom_mse, builtin_mse"
   ]
  },
  {
   "cell_type": "markdown",
   "metadata": {},
   "source": [
    "## Question 3\n",
    "Create a heatmap of the correlations between correlations of the $X$ data, comment on the values (are they relatively high, relatively low? Is that expected?)"
   ]
  },
  {
   "cell_type": "code",
   "execution_count": 37,
   "metadata": {},
   "outputs": [
    {
     "data": {
      "image/png": "[encoded data removed]",
      "text/plain": [
       "<Figure size 1000x800 with 2 Axes>"
      ]
     },
     "metadata": {},
     "output_type": "display_data"
    }
   ],
   "source": [
    "# 3.\n",
    "# Calculate the correlation matrix of the features in X\n",
    "correlation_matrix = X.corr()\n",
    "\n",
    "# Plot the heatmap of the correlation matrix\n",
    "plt.figure(figsize=(10, 8))\n",
    "sns.heatmap(correlation_matrix, annot=True, cmap=\"coolwarm\", fmt=\".2f\", linewidths=0.5)\n",
    "plt.title(\"Correlation Heatmap of Features in Fish Dataset\")\n",
    "plt.show()"
   ]
  },
  {
   "cell_type": "markdown",
   "metadata": {},
   "source": [
    "Relatively High Correlations:\n",
    "\n",
    "Length1, Length2, Length3: These length measurements are highly correlated with each other (values close to 1). This high correlation is expected since these measurements likely represent related dimensions of the fish and naturally scale together.\n",
    "\n",
    "Height and Lengths: Height has a moderately high correlation with the lengths, which makes sense, as larger fish would generally have increased dimensions across both height and length.\n",
    "\n",
    "\n",
    "Relatively Low Correlations:\n",
    "\n",
    "Species_encoded with Lengths, Height, and Width: The Species_encoded column shows lower correlations with physical measurements. This indicates that while there may be some variance in fish measurements by species, they do not have strong linear associations with specific physical dimensions.\n",
    "\n",
    "Width with Lengths and Height: Width shows moderate to low correlation with other dimensions, suggesting it varies more independently compared to the lengths and height.\n",
    "\n",
    "In general, these values align with expectations, as fish dimensions are usually related to each other but don’t strictly determine species."
   ]
  },
  {
   "cell_type": "markdown",
   "metadata": {},
   "source": [
    "# Part 2 - Logistic Regression \n",
    "We will go over Logistic Regression ROC and AUC, and the RFECV function. The data we are using is the csv named 'surfs_up.csv'. This data has seven columns of data long with a binary classification. Each column represents a certain attribute of the days conditions, and the binary classification is whether it is a good day to surf or not (subjectively picked by the person who made the dataset). The columns, in order of appearance, are as follows:\n",
    "\n",
    "Air Temperature, in Fahrenheit\n",
    "\n",
    "\n",
    "Wind Gust, in meters per second\n",
    "\n",
    "\n",
    "Average Wave Period, in seconds\n",
    "\n",
    "\n",
    "Wind Speed, in meters per second\n",
    "\n",
    "\n",
    "Wave Height, in feet\n",
    "\n",
    "\n",
    "Water Temperature, in Fahrenheit\n",
    "\n",
    "\n",
    "Dominant Wave Period, in seconds"
   ]
  },
  {
   "cell_type": "markdown",
   "metadata": {},
   "source": [
    "### Packages"
   ]
  },
  {
   "cell_type": "code",
   "execution_count": 40,
   "metadata": {},
   "outputs": [],
   "source": [
    "import numpy as np\n",
    "from sklearn.model_selection import train_test_split\n",
    "from sklearn.linear_model import LogisticRegression"
   ]
  },
  {
   "cell_type": "markdown",
   "metadata": {},
   "source": [
    "## Question 1 - Get to know the data\n",
    "(a) Load in the data 'surfsup.csv' into a dataframe, and remove the two blank columns. "
   ]
  },
  {
   "cell_type": "code",
   "execution_count": 42,
   "metadata": {},
   "outputs": [
    {
     "data": {
      "text/html": [
       "<div>\n",
       "<style scoped>\n",
       "    .dataframe tbody tr th:only-of-type {\n",
       "        vertical-align: middle;\n",
       "    }\n",
       "\n",
       "    .dataframe tbody tr th {\n",
       "        vertical-align: top;\n",
       "    }\n",
       "\n",
       "    .dataframe thead th {\n",
       "        text-align: right;\n",
       "    }\n",
       "</style>\n",
       "<table border=\"1\" class=\"dataframe\">\n",
       "  <thead>\n",
       "    <tr style=\"text-align: right;\">\n",
       "      <th></th>\n",
       "      <th>3.7625</th>\n",
       "      <th>12.37916667</th>\n",
       "      <th>4.42125</th>\n",
       "      <th>10.35833333</th>\n",
       "      <th>5.1591209</th>\n",
       "      <th>45.5</th>\n",
       "      <th>5.39375</th>\n",
       "      <th>Unnamed: 7</th>\n",
       "      <th>Unnamed: 8</th>\n",
       "      <th>0</th>\n",
       "    </tr>\n",
       "  </thead>\n",
       "  <tbody>\n",
       "    <tr>\n",
       "      <th>0</th>\n",
       "      <td>8.5550</td>\n",
       "      <td>12.970833</td>\n",
       "      <td>4.278000</td>\n",
       "      <td>11.254167</td>\n",
       "      <td>4.921260</td>\n",
       "      <td>44.384000</td>\n",
       "      <td>5.228000</td>\n",
       "      <td>NaN</td>\n",
       "      <td>NaN</td>\n",
       "      <td>0</td>\n",
       "    </tr>\n",
       "    <tr>\n",
       "      <th>1</th>\n",
       "      <td>22.0550</td>\n",
       "      <td>10.158333</td>\n",
       "      <td>3.908095</td>\n",
       "      <td>8.995833</td>\n",
       "      <td>3.790933</td>\n",
       "      <td>43.935714</td>\n",
       "      <td>4.502857</td>\n",
       "      <td>NaN</td>\n",
       "      <td>NaN</td>\n",
       "      <td>0</td>\n",
       "    </tr>\n",
       "    <tr>\n",
       "      <th>2</th>\n",
       "      <td>28.0700</td>\n",
       "      <td>14.495833</td>\n",
       "      <td>5.226667</td>\n",
       "      <td>12.787500</td>\n",
       "      <td>9.072206</td>\n",
       "      <td>43.981250</td>\n",
       "      <td>6.241667</td>\n",
       "      <td>NaN</td>\n",
       "      <td>NaN</td>\n",
       "      <td>0</td>\n",
       "    </tr>\n",
       "    <tr>\n",
       "      <th>3</th>\n",
       "      <td>18.2600</td>\n",
       "      <td>20.779167</td>\n",
       "      <td>6.984783</td>\n",
       "      <td>18.000000</td>\n",
       "      <td>13.118367</td>\n",
       "      <td>44.466957</td>\n",
       "      <td>10.050870</td>\n",
       "      <td>NaN</td>\n",
       "      <td>NaN</td>\n",
       "      <td>0</td>\n",
       "    </tr>\n",
       "    <tr>\n",
       "      <th>4</th>\n",
       "      <td>6.2075</td>\n",
       "      <td>19.037500</td>\n",
       "      <td>5.572500</td>\n",
       "      <td>16.233333</td>\n",
       "      <td>9.594220</td>\n",
       "      <td>43.757273</td>\n",
       "      <td>6.553864</td>\n",
       "      <td>NaN</td>\n",
       "      <td>NaN</td>\n",
       "      <td>0</td>\n",
       "    </tr>\n",
       "  </tbody>\n",
       "</table>\n",
       "</div>"
      ],
      "text/plain": [
       "    3.7625  12.37916667   4.42125  10.35833333  5.1591209       45.5  \\\n",
       "0   8.5550    12.970833  4.278000    11.254167   4.921260  44.384000   \n",
       "1  22.0550    10.158333  3.908095     8.995833   3.790933  43.935714   \n",
       "2  28.0700    14.495833  5.226667    12.787500   9.072206  43.981250   \n",
       "3  18.2600    20.779167  6.984783    18.000000  13.118367  44.466957   \n",
       "4   6.2075    19.037500  5.572500    16.233333   9.594220  43.757273   \n",
       "\n",
       "     5.39375  Unnamed: 7  Unnamed: 8  0  \n",
       "0   5.228000         NaN         NaN  0  \n",
       "1   4.502857         NaN         NaN  0  \n",
       "2   6.241667         NaN         NaN  0  \n",
       "3  10.050870         NaN         NaN  0  \n",
       "4   6.553864         NaN         NaN  0  "
      ]
     },
     "execution_count": 42,
     "metadata": {},
     "output_type": "execute_result"
    }
   ],
   "source": [
    "# 1. a. \n",
    "surf = pd.read_csv('/Users/hannahmarr/Desktop/Tufts/DATA201/surfs_up.csv')\n",
    "surf.head()"
   ]
  },
  {
   "cell_type": "code",
   "execution_count": 44,
   "metadata": {},
   "outputs": [
    {
     "data": {
      "text/html": [
       "<div>\n",
       "<style scoped>\n",
       "    .dataframe tbody tr th:only-of-type {\n",
       "        vertical-align: middle;\n",
       "    }\n",
       "\n",
       "    .dataframe tbody tr th {\n",
       "        vertical-align: top;\n",
       "    }\n",
       "\n",
       "    .dataframe thead th {\n",
       "        text-align: right;\n",
       "    }\n",
       "</style>\n",
       "<table border=\"1\" class=\"dataframe\">\n",
       "  <thead>\n",
       "    <tr style=\"text-align: right;\">\n",
       "      <th></th>\n",
       "      <th>Air_Temp</th>\n",
       "      <th>Wind_Gust</th>\n",
       "      <th>Avg_Wave_Pd</th>\n",
       "      <th>Wind_Speed</th>\n",
       "      <th>Wave_Height</th>\n",
       "      <th>Water_Temp</th>\n",
       "      <th>Dominant_Wave_Pd</th>\n",
       "      <th>BLANK1</th>\n",
       "      <th>BLANK2</th>\n",
       "      <th>Good_Surf_Day</th>\n",
       "    </tr>\n",
       "  </thead>\n",
       "  <tbody>\n",
       "    <tr>\n",
       "      <th>0</th>\n",
       "      <td>22.0550</td>\n",
       "      <td>10.158333</td>\n",
       "      <td>3.908095</td>\n",
       "      <td>8.995833</td>\n",
       "      <td>3.790933</td>\n",
       "      <td>43.935714</td>\n",
       "      <td>4.502857</td>\n",
       "      <td>NaN</td>\n",
       "      <td>NaN</td>\n",
       "      <td>0</td>\n",
       "    </tr>\n",
       "    <tr>\n",
       "      <th>1</th>\n",
       "      <td>28.0700</td>\n",
       "      <td>14.495833</td>\n",
       "      <td>5.226667</td>\n",
       "      <td>12.787500</td>\n",
       "      <td>9.072206</td>\n",
       "      <td>43.981250</td>\n",
       "      <td>6.241667</td>\n",
       "      <td>NaN</td>\n",
       "      <td>NaN</td>\n",
       "      <td>0</td>\n",
       "    </tr>\n",
       "    <tr>\n",
       "      <th>2</th>\n",
       "      <td>18.2600</td>\n",
       "      <td>20.779167</td>\n",
       "      <td>6.984783</td>\n",
       "      <td>18.000000</td>\n",
       "      <td>13.118367</td>\n",
       "      <td>44.466957</td>\n",
       "      <td>10.050870</td>\n",
       "      <td>NaN</td>\n",
       "      <td>NaN</td>\n",
       "      <td>0</td>\n",
       "    </tr>\n",
       "    <tr>\n",
       "      <th>3</th>\n",
       "      <td>6.2075</td>\n",
       "      <td>19.037500</td>\n",
       "      <td>5.572500</td>\n",
       "      <td>16.233333</td>\n",
       "      <td>9.594220</td>\n",
       "      <td>43.757273</td>\n",
       "      <td>6.553864</td>\n",
       "      <td>NaN</td>\n",
       "      <td>NaN</td>\n",
       "      <td>0</td>\n",
       "    </tr>\n",
       "    <tr>\n",
       "      <th>4</th>\n",
       "      <td>4.1000</td>\n",
       "      <td>13.137500</td>\n",
       "      <td>5.170000</td>\n",
       "      <td>11.320833</td>\n",
       "      <td>7.729659</td>\n",
       "      <td>43.718000</td>\n",
       "      <td>6.297000</td>\n",
       "      <td>NaN</td>\n",
       "      <td>NaN</td>\n",
       "      <td>0</td>\n",
       "    </tr>\n",
       "  </tbody>\n",
       "</table>\n",
       "</div>"
      ],
      "text/plain": [
       "   Air_Temp  Wind_Gust  Avg_Wave_Pd  Wind_Speed  Wave_Height  Water_Temp  \\\n",
       "0   22.0550  10.158333     3.908095    8.995833     3.790933   43.935714   \n",
       "1   28.0700  14.495833     5.226667   12.787500     9.072206   43.981250   \n",
       "2   18.2600  20.779167     6.984783   18.000000    13.118367   44.466957   \n",
       "3    6.2075  19.037500     5.572500   16.233333     9.594220   43.757273   \n",
       "4    4.1000  13.137500     5.170000   11.320833     7.729659   43.718000   \n",
       "\n",
       "   Dominant_Wave_Pd  BLANK1  BLANK2  Good_Surf_Day  \n",
       "0          4.502857     NaN     NaN              0  \n",
       "1          6.241667     NaN     NaN              0  \n",
       "2         10.050870     NaN     NaN              0  \n",
       "3          6.553864     NaN     NaN              0  \n",
       "4          6.297000     NaN     NaN              0  "
      ]
     },
     "execution_count": 44,
     "metadata": {},
     "output_type": "execute_result"
    }
   ],
   "source": [
    "# There are no column titles, so we can create column titles based on the metadata we've been given\n",
    "col_names = ['Air_Temp', 'Wind_Gust', 'Avg_Wave_Pd', 'Wind_Speed', 'Wave_Height', 'Water_Temp', 'Dominant_Wave_Pd', 'BLANK1', 'BLANK2', 'Good_Surf_Day']\n",
    "\n",
    "surf = pd.read_csv(\"/Users/hannahmarr/Desktop/Tufts/DATA201/surfs_up.csv\", header= 1, names=col_names)\n",
    "\n",
    "surf.head()"
   ]
  },
  {
   "cell_type": "code",
   "execution_count": 48,
   "metadata": {},
   "outputs": [
    {
     "data": {
      "text/html": [
       "<div>\n",
       "<style scoped>\n",
       "    .dataframe tbody tr th:only-of-type {\n",
       "        vertical-align: middle;\n",
       "    }\n",
       "\n",
       "    .dataframe tbody tr th {\n",
       "        vertical-align: top;\n",
       "    }\n",
       "\n",
       "    .dataframe thead th {\n",
       "        text-align: right;\n",
       "    }\n",
       "</style>\n",
       "<table border=\"1\" class=\"dataframe\">\n",
       "  <thead>\n",
       "    <tr style=\"text-align: right;\">\n",
       "      <th></th>\n",
       "      <th>Air_Temp</th>\n",
       "      <th>Wind_Gust</th>\n",
       "      <th>Avg_Wave_Pd</th>\n",
       "      <th>Wind_Speed</th>\n",
       "      <th>Wave_Height</th>\n",
       "      <th>Water_Temp</th>\n",
       "      <th>Dominant_Wave_Pd</th>\n",
       "      <th>Good_Surf_Day</th>\n",
       "    </tr>\n",
       "  </thead>\n",
       "  <tbody>\n",
       "    <tr>\n",
       "      <th>0</th>\n",
       "      <td>22.0550</td>\n",
       "      <td>10.158333</td>\n",
       "      <td>3.908095</td>\n",
       "      <td>8.995833</td>\n",
       "      <td>3.790933</td>\n",
       "      <td>43.935714</td>\n",
       "      <td>4.502857</td>\n",
       "      <td>0</td>\n",
       "    </tr>\n",
       "    <tr>\n",
       "      <th>1</th>\n",
       "      <td>28.0700</td>\n",
       "      <td>14.495833</td>\n",
       "      <td>5.226667</td>\n",
       "      <td>12.787500</td>\n",
       "      <td>9.072206</td>\n",
       "      <td>43.981250</td>\n",
       "      <td>6.241667</td>\n",
       "      <td>0</td>\n",
       "    </tr>\n",
       "    <tr>\n",
       "      <th>2</th>\n",
       "      <td>18.2600</td>\n",
       "      <td>20.779167</td>\n",
       "      <td>6.984783</td>\n",
       "      <td>18.000000</td>\n",
       "      <td>13.118367</td>\n",
       "      <td>44.466957</td>\n",
       "      <td>10.050870</td>\n",
       "      <td>0</td>\n",
       "    </tr>\n",
       "    <tr>\n",
       "      <th>3</th>\n",
       "      <td>6.2075</td>\n",
       "      <td>19.037500</td>\n",
       "      <td>5.572500</td>\n",
       "      <td>16.233333</td>\n",
       "      <td>9.594220</td>\n",
       "      <td>43.757273</td>\n",
       "      <td>6.553864</td>\n",
       "      <td>0</td>\n",
       "    </tr>\n",
       "    <tr>\n",
       "      <th>4</th>\n",
       "      <td>4.1000</td>\n",
       "      <td>13.137500</td>\n",
       "      <td>5.170000</td>\n",
       "      <td>11.320833</td>\n",
       "      <td>7.729659</td>\n",
       "      <td>43.718000</td>\n",
       "      <td>6.297000</td>\n",
       "      <td>0</td>\n",
       "    </tr>\n",
       "  </tbody>\n",
       "</table>\n",
       "</div>"
      ],
      "text/plain": [
       "   Air_Temp  Wind_Gust  Avg_Wave_Pd  Wind_Speed  Wave_Height  Water_Temp  \\\n",
       "0   22.0550  10.158333     3.908095    8.995833     3.790933   43.935714   \n",
       "1   28.0700  14.495833     5.226667   12.787500     9.072206   43.981250   \n",
       "2   18.2600  20.779167     6.984783   18.000000    13.118367   44.466957   \n",
       "3    6.2075  19.037500     5.572500   16.233333     9.594220   43.757273   \n",
       "4    4.1000  13.137500     5.170000   11.320833     7.729659   43.718000   \n",
       "\n",
       "   Dominant_Wave_Pd  Good_Surf_Day  \n",
       "0          4.502857              0  \n",
       "1          6.241667              0  \n",
       "2         10.050870              0  \n",
       "3          6.553864              0  \n",
       "4          6.297000              0  "
      ]
     },
     "execution_count": 48,
     "metadata": {},
     "output_type": "execute_result"
    }
   ],
   "source": [
    "# 1. a. Drop the two blank columns\n",
    "surf = surf.drop(columns = ['BLANK1', 'BLANK2'])\n",
    "surf.head()"
   ]
  },
  {
   "cell_type": "markdown",
   "metadata": {},
   "source": [
    "(b) Rename the columns based off of the data description. "
   ]
  },
  {
   "cell_type": "code",
   "execution_count": null,
   "metadata": {},
   "outputs": [],
   "source": [
    "# 1. b. Already done above, but here is the code I used to do it\n",
    "col_names = ['Air_Temp', 'Wind_Gust', 'Avg_Wave_Pd', 'Wind_Speed', 'Wave_Height', 'Water_Temp', 'Dominant_Wave_Pd', 'BLANK1', 'BLANK2', 'Good_Surf_Day']\n",
    "\n",
    "surf = pd.read_csv(\"/Users/hannahmarr/Desktop/Tufts/DATA201/surfs_up.csv\", header= 1, names=col_names)\n",
    "\n",
    "surf.head()"
   ]
  },
  {
   "cell_type": "markdown",
   "metadata": {},
   "source": [
    "(c) Report how many of each class there is."
   ]
  },
  {
   "cell_type": "code",
   "execution_count": 52,
   "metadata": {},
   "outputs": [
    {
     "data": {
      "text/plain": [
       "Good_Surf_Day\n",
       "0    100\n",
       "1     98\n",
       "Name: count, dtype: int64"
      ]
     },
     "execution_count": 52,
     "metadata": {},
     "output_type": "execute_result"
    }
   ],
   "source": [
    "# 1. c. Count the occurrences of each class in the 'Good_Surf_Day' column\n",
    "surf_class_counts = surf['Good_Surf_Day'].value_counts()\n",
    "\n",
    "surf_class_counts"
   ]
  },
  {
   "cell_type": "markdown",
   "metadata": {},
   "source": [
    "## Question 2 - An ROC curve from basic threshold classification\n",
    "(a) Create a new variable that is just the Dominant Wave Period column, and also create a response column variable. "
   ]
  },
  {
   "cell_type": "code",
   "execution_count": 56,
   "metadata": {},
   "outputs": [
    {
     "data": {
      "text/plain": [
       "(0     4.502857\n",
       " 1     6.241667\n",
       " 2    10.050870\n",
       " 3     6.553864\n",
       " 4     6.297000\n",
       " Name: Dominant_Wave_Pd, dtype: float64,\n",
       " 0    0\n",
       " 1    0\n",
       " 2    0\n",
       " 3    0\n",
       " 4    0\n",
       " Name: Good_Surf_Day, dtype: int64)"
      ]
     },
     "execution_count": 56,
     "metadata": {},
     "output_type": "execute_result"
    }
   ],
   "source": [
    "# 2. a. \n",
    "# Create a new variable that is just the Dominant Wave Period column\n",
    "dominant_wave_period = surf['Dominant_Wave_Pd']\n",
    "\n",
    "# Create a response column variable which is the 'Good_Surf_Day' column\n",
    "response_column = surf['Good_Surf_Day']\n",
    "\n",
    "# Display the first few entries of both new variables to confirm\n",
    "dominant_wave_period.head(), response_column.head()"
   ]
  },
  {
   "cell_type": "markdown",
   "metadata": {},
   "source": [
    "(b) Create a function that takes in a Series and a threshold, and returns a series of predictions based off of the threshold (1 for above the threshold, 0 for below it). "
   ]
  },
  {
   "cell_type": "code",
   "execution_count": 58,
   "metadata": {},
   "outputs": [
    {
     "data": {
      "text/plain": [
       "0    0\n",
       "1    1\n",
       "2    1\n",
       "3    1\n",
       "4    1\n",
       "Name: Dominant_Wave_Pd, dtype: int64"
      ]
     },
     "execution_count": 58,
     "metadata": {},
     "output_type": "execute_result"
    }
   ],
   "source": [
    "# 1. b. Define a function to generate predictions based on a threshold\n",
    "def threshold_predictions(series: pd.Series, threshold: float) -> pd.Series:\n",
    "    \"\"\"\n",
    "    Returns a series of predictions based on the threshold.\n",
    "    Values above the threshold are labeled as 1, and values below or equal to the threshold as 0.\n",
    "    \n",
    "    Parameters:\n",
    "    series (pd.Series): The series to apply the threshold to.\n",
    "    threshold (float): The threshold value for classification.\n",
    "    \n",
    "    Returns:\n",
    "    pd.Series: Series of 1s and 0s representing predictions.\n",
    "    \"\"\"\n",
    "    return (series > threshold).astype(int)\n",
    "\n",
    "# Testing the function with the Dominant Wave Period series and a sample threshold\n",
    "sample_predictions = threshold_predictions(dominant_wave_period, threshold=6.0)\n",
    "sample_predictions.head()"
   ]
  },
  {
   "cell_type": "markdown",
   "metadata": {},
   "source": [
    "(c) Create a linear range of 10 points in the actual range of the data, run your function on each point as your threshold value, and at each point find the TPR and FPR associated with the threshold. "
   ]
  },
  {
   "cell_type": "code",
   "execution_count": 62,
   "metadata": {},
   "outputs": [
    {
     "data": {
      "text/html": [
       "<div>\n",
       "<style scoped>\n",
       "    .dataframe tbody tr th:only-of-type {\n",
       "        vertical-align: middle;\n",
       "    }\n",
       "\n",
       "    .dataframe tbody tr th {\n",
       "        vertical-align: top;\n",
       "    }\n",
       "\n",
       "    .dataframe thead th {\n",
       "        text-align: right;\n",
       "    }\n",
       "</style>\n",
       "<table border=\"1\" class=\"dataframe\">\n",
       "  <thead>\n",
       "    <tr style=\"text-align: right;\">\n",
       "      <th></th>\n",
       "      <th>Threshold</th>\n",
       "      <th>TPR</th>\n",
       "      <th>FPR</th>\n",
       "    </tr>\n",
       "  </thead>\n",
       "  <tbody>\n",
       "    <tr>\n",
       "      <th>0</th>\n",
       "      <td>3.686875</td>\n",
       "      <td>1.000000</td>\n",
       "      <td>0.99</td>\n",
       "    </tr>\n",
       "    <tr>\n",
       "      <th>1</th>\n",
       "      <td>6.371574</td>\n",
       "      <td>1.000000</td>\n",
       "      <td>0.29</td>\n",
       "    </tr>\n",
       "    <tr>\n",
       "      <th>2</th>\n",
       "      <td>9.056273</td>\n",
       "      <td>0.397959</td>\n",
       "      <td>0.05</td>\n",
       "    </tr>\n",
       "    <tr>\n",
       "      <th>3</th>\n",
       "      <td>11.740972</td>\n",
       "      <td>0.112245</td>\n",
       "      <td>0.01</td>\n",
       "    </tr>\n",
       "    <tr>\n",
       "      <th>4</th>\n",
       "      <td>14.425671</td>\n",
       "      <td>0.040816</td>\n",
       "      <td>0.01</td>\n",
       "    </tr>\n",
       "    <tr>\n",
       "      <th>5</th>\n",
       "      <td>17.110370</td>\n",
       "      <td>0.000000</td>\n",
       "      <td>0.01</td>\n",
       "    </tr>\n",
       "    <tr>\n",
       "      <th>6</th>\n",
       "      <td>19.795069</td>\n",
       "      <td>0.000000</td>\n",
       "      <td>0.01</td>\n",
       "    </tr>\n",
       "    <tr>\n",
       "      <th>7</th>\n",
       "      <td>22.479769</td>\n",
       "      <td>0.000000</td>\n",
       "      <td>0.01</td>\n",
       "    </tr>\n",
       "    <tr>\n",
       "      <th>8</th>\n",
       "      <td>25.164468</td>\n",
       "      <td>0.000000</td>\n",
       "      <td>0.01</td>\n",
       "    </tr>\n",
       "    <tr>\n",
       "      <th>9</th>\n",
       "      <td>27.849167</td>\n",
       "      <td>0.000000</td>\n",
       "      <td>0.00</td>\n",
       "    </tr>\n",
       "  </tbody>\n",
       "</table>\n",
       "</div>"
      ],
      "text/plain": [
       "   Threshold       TPR   FPR\n",
       "0   3.686875  1.000000  0.99\n",
       "1   6.371574  1.000000  0.29\n",
       "2   9.056273  0.397959  0.05\n",
       "3  11.740972  0.112245  0.01\n",
       "4  14.425671  0.040816  0.01\n",
       "5  17.110370  0.000000  0.01\n",
       "6  19.795069  0.000000  0.01\n",
       "7  22.479769  0.000000  0.01\n",
       "8  25.164468  0.000000  0.01\n",
       "9  27.849167  0.000000  0.00"
      ]
     },
     "execution_count": 62,
     "metadata": {},
     "output_type": "execute_result"
    }
   ],
   "source": [
    "# 1. c.\n",
    "# Calculate the actual range of the Dominant Wave Period data\n",
    "min_value = dominant_wave_period.min()\n",
    "max_value = dominant_wave_period.max()\n",
    "\n",
    "# Create a linear range of 10 points between the min and max values\n",
    "thresholds = np.linspace(min_value, max_value, 10)\n",
    "\n",
    "# Function to calculate True Positive Rate (TPR) and False Positive Rate (FPR)\n",
    "def calculate_tpr_fpr(predictions: pd.Series, actuals: pd.Series) -> tuple:\n",
    "    \"\"\"\n",
    "    Calculates the True Positive Rate (TPR) and False Positive Rate (FPR).\n",
    "    \n",
    "    Parameters:\n",
    "    predictions (pd.Series): Series of binary predictions (0 and 1).\n",
    "    actuals (pd.Series): Series of actual binary labels (0 and 1).\n",
    "    \n",
    "    Returns:\n",
    "    tuple: TPR and FPR values.\n",
    "    \"\"\"\n",
    "    true_positives = ((predictions == 1) & (actuals == 1)).sum()\n",
    "    false_positives = ((predictions == 1) & (actuals == 0)).sum()\n",
    "    true_negatives = ((predictions == 0) & (actuals == 0)).sum()\n",
    "    false_negatives = ((predictions == 0) & (actuals == 1)).sum()\n",
    "    \n",
    "    tpr = true_positives / (true_positives + false_negatives) if (true_positives + false_negatives) > 0 else 0\n",
    "    fpr = false_positives / (false_positives + true_negatives) if (false_positives + true_negatives) > 0 else 0\n",
    "    \n",
    "    return tpr, fpr\n",
    "\n",
    "# Calculate TPR and FPR for each threshold in the range\n",
    "tpr_fpr_results = []\n",
    "for threshold in thresholds:\n",
    "    predictions = threshold_predictions(dominant_wave_period, threshold)\n",
    "    tpr, fpr = calculate_tpr_fpr(predictions, response_column)\n",
    "    tpr_fpr_results.append((threshold, tpr, fpr))\n",
    "\n",
    "# Convert the results into a DataFrame for better readability\n",
    "tpr_fpr_df = pd.DataFrame(tpr_fpr_results, columns=['Threshold', 'TPR', 'FPR'])\n",
    "\n",
    "tpr_fpr_df"
   ]
  },
  {
   "cell_type": "markdown",
   "metadata": {},
   "source": [
    "(d) Plot the points as pairs (FPR,TPR), but first sorting by FPR. "
   ]
  },
  {
   "cell_type": "code",
   "execution_count": 66,
   "metadata": {},
   "outputs": [
    {
     "data": {
      "image/png": "[encoded data removed]",
      "text/plain": [
       "<Figure size 800x600 with 1 Axes>"
      ]
     },
     "metadata": {},
     "output_type": "display_data"
    }
   ],
   "source": [
    "# 1. d.\n",
    "import matplotlib.pyplot as plt\n",
    "\n",
    "# Sort the dataframe by FPR for proper plotting order\n",
    "tpr_fpr_df_sorted = tpr_fpr_df.sort_values(by='FPR')\n",
    "\n",
    "# Plot FPR vs TPR as pairs\n",
    "plt.figure(figsize=(8, 6))\n",
    "plt.plot(tpr_fpr_df_sorted['FPR'], tpr_fpr_df_sorted['TPR'], marker='o', linestyle='-')\n",
    "plt.xlabel('False Positive Rate (FPR)')\n",
    "plt.ylabel('True Positive Rate (TPR)')\n",
    "plt.title('FPR vs TPR at Different Thresholds')\n",
    "plt.grid(True)\n",
    "plt.show()"
   ]
  },
  {
   "cell_type": "markdown",
   "metadata": {},
   "source": [
    "(e) Repeat part (c) and (d) except for 25 different thresholds in the range."
   ]
  },
  {
   "cell_type": "code",
   "execution_count": 72,
   "metadata": {},
   "outputs": [
    {
     "data": {
      "image/png": "[encoded data removed]",
      "text/plain": [
       "<Figure size 800x600 with 1 Axes>"
      ]
     },
     "metadata": {},
     "output_type": "display_data"
    }
   ],
   "source": [
    "# 1. e.\n",
    "# Create a linear range of 25 points between the min and max values for more granularity\n",
    "thresholds_25 = np.linspace(min_value, max_value, 25)\n",
    "\n",
    "# Calculate TPR and FPR for each threshold in the new range\n",
    "tpr_fpr_results_25 = []\n",
    "for threshold in thresholds_25:\n",
    "    predictions = threshold_predictions(dominant_wave_period, threshold)\n",
    "    tpr, fpr = calculate_tpr_fpr(predictions, response_column)\n",
    "    tpr_fpr_results_25.append((threshold, tpr, fpr))\n",
    "\n",
    "# Convert the results into a DataFrame and sort by FPR\n",
    "tpr_fpr_df_25 = pd.DataFrame(tpr_fpr_results_25, columns=['Threshold', 'TPR', 'FPR']).sort_values(by='FPR')\n",
    "\n",
    "# Plot FPR vs TPR as pairs for the 25 thresholds\n",
    "plt.figure(figsize=(8, 6))\n",
    "plt.plot(tpr_fpr_df_25['FPR'], tpr_fpr_df_25['TPR'], marker='o', linestyle='-')\n",
    "plt.xlabel('False Positive Rate (FPR)')\n",
    "plt.ylabel('True Positive Rate (TPR)')\n",
    "plt.title('FPR vs TPR at 25 Different Thresholds')\n",
    "plt.grid(True)\n",
    "plt.show()"
   ]
  },
  {
   "cell_type": "code",
   "execution_count": 74,
   "metadata": {},
   "outputs": [
    {
     "data": {
      "text/html": [
       "<div>\n",
       "<style scoped>\n",
       "    .dataframe tbody tr th:only-of-type {\n",
       "        vertical-align: middle;\n",
       "    }\n",
       "\n",
       "    .dataframe tbody tr th {\n",
       "        vertical-align: top;\n",
       "    }\n",
       "\n",
       "    .dataframe thead th {\n",
       "        text-align: right;\n",
       "    }\n",
       "</style>\n",
       "<table border=\"1\" class=\"dataframe\">\n",
       "  <thead>\n",
       "    <tr style=\"text-align: right;\">\n",
       "      <th></th>\n",
       "      <th>Threshold</th>\n",
       "      <th>TPR</th>\n",
       "      <th>FPR</th>\n",
       "    </tr>\n",
       "  </thead>\n",
       "  <tbody>\n",
       "    <tr>\n",
       "      <th>24</th>\n",
       "      <td>27.849167</td>\n",
       "      <td>0.000000</td>\n",
       "      <td>0.00</td>\n",
       "    </tr>\n",
       "    <tr>\n",
       "      <th>22</th>\n",
       "      <td>25.835642</td>\n",
       "      <td>0.000000</td>\n",
       "      <td>0.01</td>\n",
       "    </tr>\n",
       "    <tr>\n",
       "      <th>21</th>\n",
       "      <td>24.828880</td>\n",
       "      <td>0.000000</td>\n",
       "      <td>0.01</td>\n",
       "    </tr>\n",
       "    <tr>\n",
       "      <th>20</th>\n",
       "      <td>23.822118</td>\n",
       "      <td>0.000000</td>\n",
       "      <td>0.01</td>\n",
       "    </tr>\n",
       "    <tr>\n",
       "      <th>19</th>\n",
       "      <td>22.815356</td>\n",
       "      <td>0.000000</td>\n",
       "      <td>0.01</td>\n",
       "    </tr>\n",
       "    <tr>\n",
       "      <th>18</th>\n",
       "      <td>21.808594</td>\n",
       "      <td>0.000000</td>\n",
       "      <td>0.01</td>\n",
       "    </tr>\n",
       "    <tr>\n",
       "      <th>17</th>\n",
       "      <td>20.801832</td>\n",
       "      <td>0.000000</td>\n",
       "      <td>0.01</td>\n",
       "    </tr>\n",
       "    <tr>\n",
       "      <th>16</th>\n",
       "      <td>19.795069</td>\n",
       "      <td>0.000000</td>\n",
       "      <td>0.01</td>\n",
       "    </tr>\n",
       "    <tr>\n",
       "      <th>15</th>\n",
       "      <td>18.788307</td>\n",
       "      <td>0.000000</td>\n",
       "      <td>0.01</td>\n",
       "    </tr>\n",
       "    <tr>\n",
       "      <th>14</th>\n",
       "      <td>17.781545</td>\n",
       "      <td>0.000000</td>\n",
       "      <td>0.01</td>\n",
       "    </tr>\n",
       "    <tr>\n",
       "      <th>13</th>\n",
       "      <td>16.774783</td>\n",
       "      <td>0.000000</td>\n",
       "      <td>0.01</td>\n",
       "    </tr>\n",
       "    <tr>\n",
       "      <th>23</th>\n",
       "      <td>26.842405</td>\n",
       "      <td>0.000000</td>\n",
       "      <td>0.01</td>\n",
       "    </tr>\n",
       "    <tr>\n",
       "      <th>12</th>\n",
       "      <td>15.768021</td>\n",
       "      <td>0.010204</td>\n",
       "      <td>0.01</td>\n",
       "    </tr>\n",
       "    <tr>\n",
       "      <th>10</th>\n",
       "      <td>13.754497</td>\n",
       "      <td>0.051020</td>\n",
       "      <td>0.01</td>\n",
       "    </tr>\n",
       "    <tr>\n",
       "      <th>9</th>\n",
       "      <td>12.747734</td>\n",
       "      <td>0.071429</td>\n",
       "      <td>0.01</td>\n",
       "    </tr>\n",
       "    <tr>\n",
       "      <th>8</th>\n",
       "      <td>11.740972</td>\n",
       "      <td>0.112245</td>\n",
       "      <td>0.01</td>\n",
       "    </tr>\n",
       "    <tr>\n",
       "      <th>11</th>\n",
       "      <td>14.761259</td>\n",
       "      <td>0.010204</td>\n",
       "      <td>0.01</td>\n",
       "    </tr>\n",
       "    <tr>\n",
       "      <th>7</th>\n",
       "      <td>10.734210</td>\n",
       "      <td>0.132653</td>\n",
       "      <td>0.02</td>\n",
       "    </tr>\n",
       "    <tr>\n",
       "      <th>6</th>\n",
       "      <td>9.727448</td>\n",
       "      <td>0.285714</td>\n",
       "      <td>0.03</td>\n",
       "    </tr>\n",
       "    <tr>\n",
       "      <th>5</th>\n",
       "      <td>8.720686</td>\n",
       "      <td>0.510204</td>\n",
       "      <td>0.05</td>\n",
       "    </tr>\n",
       "    <tr>\n",
       "      <th>4</th>\n",
       "      <td>7.713924</td>\n",
       "      <td>0.734694</td>\n",
       "      <td>0.09</td>\n",
       "    </tr>\n",
       "    <tr>\n",
       "      <th>3</th>\n",
       "      <td>6.707161</td>\n",
       "      <td>1.000000</td>\n",
       "      <td>0.18</td>\n",
       "    </tr>\n",
       "    <tr>\n",
       "      <th>2</th>\n",
       "      <td>5.700399</td>\n",
       "      <td>1.000000</td>\n",
       "      <td>0.50</td>\n",
       "    </tr>\n",
       "    <tr>\n",
       "      <th>1</th>\n",
       "      <td>4.693637</td>\n",
       "      <td>1.000000</td>\n",
       "      <td>0.93</td>\n",
       "    </tr>\n",
       "    <tr>\n",
       "      <th>0</th>\n",
       "      <td>3.686875</td>\n",
       "      <td>1.000000</td>\n",
       "      <td>0.99</td>\n",
       "    </tr>\n",
       "  </tbody>\n",
       "</table>\n",
       "</div>"
      ],
      "text/plain": [
       "    Threshold       TPR   FPR\n",
       "24  27.849167  0.000000  0.00\n",
       "22  25.835642  0.000000  0.01\n",
       "21  24.828880  0.000000  0.01\n",
       "20  23.822118  0.000000  0.01\n",
       "19  22.815356  0.000000  0.01\n",
       "18  21.808594  0.000000  0.01\n",
       "17  20.801832  0.000000  0.01\n",
       "16  19.795069  0.000000  0.01\n",
       "15  18.788307  0.000000  0.01\n",
       "14  17.781545  0.000000  0.01\n",
       "13  16.774783  0.000000  0.01\n",
       "23  26.842405  0.000000  0.01\n",
       "12  15.768021  0.010204  0.01\n",
       "10  13.754497  0.051020  0.01\n",
       "9   12.747734  0.071429  0.01\n",
       "8   11.740972  0.112245  0.01\n",
       "11  14.761259  0.010204  0.01\n",
       "7   10.734210  0.132653  0.02\n",
       "6    9.727448  0.285714  0.03\n",
       "5    8.720686  0.510204  0.05\n",
       "4    7.713924  0.734694  0.09\n",
       "3    6.707161  1.000000  0.18\n",
       "2    5.700399  1.000000  0.50\n",
       "1    4.693637  1.000000  0.93\n",
       "0    3.686875  1.000000  0.99"
      ]
     },
     "execution_count": 74,
     "metadata": {},
     "output_type": "execute_result"
    }
   ],
   "source": [
    "tpr_fpr_df_25"
   ]
  },
  {
   "cell_type": "markdown",
   "metadata": {},
   "source": [
    "## Question 3 - One-Dim Logistic Regression\n",
    "(a) Run a logistic regression on the single column we were using in Q2, using a testsize of 0.3. Create and display the confusion matrix, report the accuracy. "
   ]
  },
  {
   "cell_type": "code",
   "execution_count": 78,
   "metadata": {},
   "outputs": [
    {
     "name": "stdout",
     "output_type": "stream",
     "text": [
      "Confusion matrix:\n",
      " [[28  4]\n",
      " [ 8 20]]\n",
      "Accuracy score: 0.8\n"
     ]
    }
   ],
   "source": [
    "# 3. a.\n",
    "from sklearn.model_selection import train_test_split\n",
    "from sklearn.linear_model import LogisticRegression\n",
    "from sklearn.metrics import confusion_matrix, accuracy_score\n",
    "\n",
    "# Split the data into training and testing sets with a test size of 0.3\n",
    "X = dominant_wave_period.values.reshape(-1, 1)\n",
    "y = response_column\n",
    "X_train, X_test, y_train, y_test = train_test_split(X, y, test_size=0.3, random_state=0)\n",
    "\n",
    "# Initialize and fit a logistic regression model\n",
    "log_reg = LogisticRegression()\n",
    "log_reg.fit(X_train, y_train)\n",
    "\n",
    "# Make predictions on the test set\n",
    "y_pred = log_reg.predict(X_test)\n",
    "\n",
    "# Calculate the confusion matrix and accuracy score\n",
    "conf_matrix = confusion_matrix(y_test, y_pred)\n",
    "accuracy = accuracy_score(y_test, y_pred)\n",
    "\n",
    "print('Confusion matrix:\\n', conf_matrix)\n",
    "print('Accuracy score:', accuracy)"
   ]
  },
  {
   "cell_type": "markdown",
   "metadata": {},
   "source": [
    "(b) Pull the coefficient and intercept out of the model and transform the Series based off of the sigmoid function. Plot the transformed data against the original data, i.e. the series will be the x variable and the transformed data will be the y data. What is a reasonable decision threshold here? "
   ]
  },
  {
   "cell_type": "code",
   "execution_count": 80,
   "metadata": {},
   "outputs": [
    {
     "data": {
      "image/png": "[encoded data removed]",
      "text/plain": [
       "<Figure size 800x600 with 1 Axes>"
      ]
     },
     "metadata": {},
     "output_type": "display_data"
    },
    {
     "data": {
      "text/plain": [
       "count    198.000000\n",
       "mean       0.489930\n",
       "std        0.305202\n",
       "min        0.036782\n",
       "25%        0.180899\n",
       "50%        0.459110\n",
       "75%        0.777361\n",
       "max        1.000000\n",
       "Name: Dominant_Wave_Pd, dtype: float64"
      ]
     },
     "execution_count": 80,
     "metadata": {},
     "output_type": "execute_result"
    }
   ],
   "source": [
    "# 3. b.\n",
    "# Extract the coefficient and intercept from the logistic regression model\n",
    "coef = log_reg.coef_[0][0]\n",
    "intercept = log_reg.intercept_[0]\n",
    "\n",
    "# Define the sigmoid function\n",
    "def sigmoid(x):\n",
    "    return 1 / (1 + np.exp(-(coef * x + intercept)))\n",
    "\n",
    "# Apply the sigmoid function to the Dominant Wave Period series\n",
    "transformed_data = dominant_wave_period.apply(sigmoid)\n",
    "\n",
    "# Plot the original data (Dominant Wave Period) against the transformed data\n",
    "plt.figure(figsize=(8, 6))\n",
    "plt.plot(dominant_wave_period, transformed_data, 'o', alpha=0.5)\n",
    "plt.xlabel('Dominant Wave Period')\n",
    "plt.ylabel('Transformed Data (Sigmoid)')\n",
    "plt.title('Sigmoid Transformation of Dominant Wave Period')\n",
    "plt.grid(True)\n",
    "plt.show()\n",
    "\n",
    "# Display a reasonable decision threshold\n",
    "transformed_data.describe()"
   ]
  },
  {
   "cell_type": "markdown",
   "metadata": {},
   "source": [
    "Based on the distribution of the transformed data, a reasonable decision threshold could be around 0.46, as it represents the midpoint probability of the transformed dominant wave period data, and thus would generally mark the point where the logistic regression model would typically decide between classes."
   ]
  },
  {
   "cell_type": "markdown",
   "metadata": {},
   "source": [
    "(c) Plot the ROC curve for the model and report the AUC."
   ]
  },
  {
   "cell_type": "code",
   "execution_count": 83,
   "metadata": {},
   "outputs": [
    {
     "data": {
      "image/png": "[encoded data removed]",
      "text/plain": [
       "<Figure size 800x600 with 1 Axes>"
      ]
     },
     "metadata": {},
     "output_type": "display_data"
    },
    {
     "data": {
      "text/plain": [
       "0.9252232142857143"
      ]
     },
     "execution_count": 83,
     "metadata": {},
     "output_type": "execute_result"
    }
   ],
   "source": [
    "# 3. c.\n",
    "from sklearn.metrics import roc_curve, roc_auc_score\n",
    "\n",
    "# Calculate predicted probabilities for the test set\n",
    "y_prob = log_reg.predict_proba(X_test)[:, 1]\n",
    "\n",
    "# Compute ROC curve and AUC\n",
    "fpr, tpr, thresholds = roc_curve(y_test, y_prob)\n",
    "auc_score = roc_auc_score(y_test, y_prob)\n",
    "\n",
    "# Plot the ROC curve\n",
    "plt.figure(figsize=(8, 6))\n",
    "plt.plot(fpr, tpr, label=f'ROC curve (AUC = {auc_score:.2f})', color='blue')\n",
    "plt.plot([0, 1], [0, 1], color='grey', linestyle='--')\n",
    "plt.xlabel('False Positive Rate')\n",
    "plt.ylabel('True Positive Rate')\n",
    "plt.title('ROC Curve for Logistic Regression Model')\n",
    "plt.legend(loc='lower right')\n",
    "plt.grid(True)\n",
    "plt.show()\n",
    "\n",
    "auc_score"
   ]
  },
  {
   "cell_type": "code",
   "execution_count": null,
   "metadata": {},
   "outputs": [],
   "source": []
  }
 ],
 "metadata": {
  "kernelspec": {
   "display_name": "Python 3 (ipykernel)",
   "language": "python",
   "name": "python3"
  },
  "language_info": {
   "codemirror_mode": {
    "name": "ipython",
    "version": 3
   },
   "file_extension": ".py",
   "mimetype": "text/x-python",
   "name": "python",
   "nbconvert_exporter": "python",
   "pygments_lexer": "ipython3",
   "version": "3.12.4"
  }
 },
 "nbformat": 4,
 "nbformat_minor": 4
}
