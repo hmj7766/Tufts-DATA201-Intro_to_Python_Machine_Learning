{
 "cells": [
  {
   "cell_type": "markdown",
   "metadata": {},
   "source": [
    "# Homework 5\n",
    "\n",
    "### Name: Hannah Marr\n",
    "### Collaborator:\n",
    "\n",
    "\n",
    "DATA 201\n",
    "\n",
    "Fall 2024\n",
    "\n",
    "Tufts University"
   ]
  },
  {
   "cell_type": "markdown",
   "metadata": {},
   "source": [
    "This homework explores KNN, Decision Trees, and Random Forests. The first question reviews training a KNN model. Subsequent questions provide an in-depth examination of Gini impurity and the mechanics of training a Decision Tree. Following this, we delve into basic implementations of both Decision Trees and Random Forests, accompanied by an introduction to tuning hyperparameters."
   ]
  },
  {
   "cell_type": "markdown",
   "metadata": {},
   "source": [
    "# Question 1\n",
    "\n",
    "(a) Load the Heart Disease dataset and name it 'df'. Conduct data cleaning.\n",
    "\n",
    "- Perform any data cleaning or data transformation steps if required\n",
    "- Explain some of the data cleaning steps which you can perform on **any** data set\n",
    "\n",
    "For clarification, please find the metadata below:\n",
    "- BPMeds: whether or not the patient was on blood pressure medication\n",
    "- prevalentStroke: whether or not the patient had previously had a stroke\n",
    "- prevalentHyp: whether or not the patient was hypertensive\n",
    "- diabetes: whether or not the patient had diabetes\n",
    "- totChol: total cholesterol level\n",
    "- sysBP: systolic blood pressure\n",
    "- diaBP: diastolic blood pressure\n",
    "- BMI: Body Mass Index\n",
    "- heartRate: heart rate\n",
    "- glucose: glucose level\n",
    "- 10 year risk of coronary heart disease CHD (binary: “1”, means “Yes”, “0” means “No”) (Predictor Variable)\n",
    "\n",
    "(b) Create two dataframes for features and target variable (TenYearCHD). Conduct a full model training and testing (30%) for a KNN model with K=5. Print the accuracy, confusion matrix, and explain what the confuison matrix tells you\n",
    "\n",
    "(c) Create a range from 1 to 50 going at steps of 2 then make a list where you will store average accuracy at each k value\n",
    "use a for loop to compute the average accuracy over 10-fold cross validation for each k value. Plot the average accuracy for each k values and determine which k value you will choose."
   ]
  },
  {
   "cell_type": "code",
   "execution_count": 5,
   "metadata": {},
   "outputs": [
    {
     "data": {
      "text/html": [
       "<div>\n",
       "<style scoped>\n",
       "    .dataframe tbody tr th:only-of-type {\n",
       "        vertical-align: middle;\n",
       "    }\n",
       "\n",
       "    .dataframe tbody tr th {\n",
       "        vertical-align: top;\n",
       "    }\n",
       "\n",
       "    .dataframe thead th {\n",
       "        text-align: right;\n",
       "    }\n",
       "</style>\n",
       "<table border=\"1\" class=\"dataframe\">\n",
       "  <thead>\n",
       "    <tr style=\"text-align: right;\">\n",
       "      <th></th>\n",
       "      <th>male</th>\n",
       "      <th>age</th>\n",
       "      <th>education</th>\n",
       "      <th>currentSmoker</th>\n",
       "      <th>cigsPerDay</th>\n",
       "      <th>BPMeds</th>\n",
       "      <th>prevalentStroke</th>\n",
       "      <th>prevalentHyp</th>\n",
       "      <th>diabetes</th>\n",
       "      <th>totChol</th>\n",
       "      <th>sysBP</th>\n",
       "      <th>diaBP</th>\n",
       "      <th>BMI</th>\n",
       "      <th>heartRate</th>\n",
       "      <th>glucose</th>\n",
       "      <th>TenYearCHD</th>\n",
       "    </tr>\n",
       "  </thead>\n",
       "  <tbody>\n",
       "    <tr>\n",
       "      <th>0</th>\n",
       "      <td>1</td>\n",
       "      <td>39</td>\n",
       "      <td>4.0</td>\n",
       "      <td>0</td>\n",
       "      <td>0.0</td>\n",
       "      <td>0.0</td>\n",
       "      <td>0</td>\n",
       "      <td>0</td>\n",
       "      <td>0</td>\n",
       "      <td>195.0</td>\n",
       "      <td>106.0</td>\n",
       "      <td>70.0</td>\n",
       "      <td>26.97</td>\n",
       "      <td>80.0</td>\n",
       "      <td>77.0</td>\n",
       "      <td>0</td>\n",
       "    </tr>\n",
       "    <tr>\n",
       "      <th>1</th>\n",
       "      <td>0</td>\n",
       "      <td>46</td>\n",
       "      <td>2.0</td>\n",
       "      <td>0</td>\n",
       "      <td>0.0</td>\n",
       "      <td>0.0</td>\n",
       "      <td>0</td>\n",
       "      <td>0</td>\n",
       "      <td>0</td>\n",
       "      <td>250.0</td>\n",
       "      <td>121.0</td>\n",
       "      <td>81.0</td>\n",
       "      <td>28.73</td>\n",
       "      <td>95.0</td>\n",
       "      <td>76.0</td>\n",
       "      <td>0</td>\n",
       "    </tr>\n",
       "    <tr>\n",
       "      <th>2</th>\n",
       "      <td>1</td>\n",
       "      <td>48</td>\n",
       "      <td>1.0</td>\n",
       "      <td>1</td>\n",
       "      <td>20.0</td>\n",
       "      <td>0.0</td>\n",
       "      <td>0</td>\n",
       "      <td>0</td>\n",
       "      <td>0</td>\n",
       "      <td>245.0</td>\n",
       "      <td>127.5</td>\n",
       "      <td>80.0</td>\n",
       "      <td>25.34</td>\n",
       "      <td>75.0</td>\n",
       "      <td>70.0</td>\n",
       "      <td>0</td>\n",
       "    </tr>\n",
       "    <tr>\n",
       "      <th>3</th>\n",
       "      <td>0</td>\n",
       "      <td>61</td>\n",
       "      <td>3.0</td>\n",
       "      <td>1</td>\n",
       "      <td>30.0</td>\n",
       "      <td>0.0</td>\n",
       "      <td>0</td>\n",
       "      <td>1</td>\n",
       "      <td>0</td>\n",
       "      <td>225.0</td>\n",
       "      <td>150.0</td>\n",
       "      <td>95.0</td>\n",
       "      <td>28.58</td>\n",
       "      <td>65.0</td>\n",
       "      <td>103.0</td>\n",
       "      <td>1</td>\n",
       "    </tr>\n",
       "    <tr>\n",
       "      <th>4</th>\n",
       "      <td>0</td>\n",
       "      <td>46</td>\n",
       "      <td>3.0</td>\n",
       "      <td>1</td>\n",
       "      <td>23.0</td>\n",
       "      <td>0.0</td>\n",
       "      <td>0</td>\n",
       "      <td>0</td>\n",
       "      <td>0</td>\n",
       "      <td>285.0</td>\n",
       "      <td>130.0</td>\n",
       "      <td>84.0</td>\n",
       "      <td>23.10</td>\n",
       "      <td>85.0</td>\n",
       "      <td>85.0</td>\n",
       "      <td>0</td>\n",
       "    </tr>\n",
       "  </tbody>\n",
       "</table>\n",
       "</div>"
      ],
      "text/plain": [
       "   male  age  education  currentSmoker  cigsPerDay  BPMeds  prevalentStroke  \\\n",
       "0     1   39        4.0              0         0.0     0.0                0   \n",
       "1     0   46        2.0              0         0.0     0.0                0   \n",
       "2     1   48        1.0              1        20.0     0.0                0   \n",
       "3     0   61        3.0              1        30.0     0.0                0   \n",
       "4     0   46        3.0              1        23.0     0.0                0   \n",
       "\n",
       "   prevalentHyp  diabetes  totChol  sysBP  diaBP    BMI  heartRate  glucose  \\\n",
       "0             0         0    195.0  106.0   70.0  26.97       80.0     77.0   \n",
       "1             0         0    250.0  121.0   81.0  28.73       95.0     76.0   \n",
       "2             0         0    245.0  127.5   80.0  25.34       75.0     70.0   \n",
       "3             1         0    225.0  150.0   95.0  28.58       65.0    103.0   \n",
       "4             0         0    285.0  130.0   84.0  23.10       85.0     85.0   \n",
       "\n",
       "   TenYearCHD  \n",
       "0           0  \n",
       "1           0  \n",
       "2           0  \n",
       "3           1  \n",
       "4           0  "
      ]
     },
     "execution_count": 5,
     "metadata": {},
     "output_type": "execute_result"
    }
   ],
   "source": [
    "#Q1 (a)\n",
    "import pandas as pd\n",
    "\n",
    "# Load the dataset\n",
    "file_path = \"/Users/hannahmarr/Desktop/Tufts/DATA201/Heart_Disease.csv\"\n",
    "df = pd.read_csv(file_path)\n",
    "\n",
    "# Display the first few rows of the dataset to understand its structure\n",
    "df.head()"
   ]
  },
  {
   "cell_type": "markdown",
   "metadata": {},
   "source": [
    "#Q1 (a)\n",
    "Here are some common data cleaning steps that we can apply:\n",
    "1. Handling Missing Values: Check for any missing or NaN values and decide how to handle them (drop or fill with mean/median).\n",
    "2. Data Type Conversion: Ensure that columns have appropriate data types (e.g., numerical values should not be stored as strings).\n",
    "3. Outlier Detection: Identify and potentially address outliers, especially in columns like totChol, sysBP, and glucose.\n",
    "4. Standardization: Ensure consistent units, especially for medical data (e.g., cholesterol levels might need adjustments).\n",
    "5. Dropping Irrelevant Features: If some columns are not useful for analysis, they can be removed.\n",
    "6. Duplicate Rows: Check for and remove any duplicate records."
   ]
  },
  {
   "cell_type": "code",
   "execution_count": 9,
   "metadata": {},
   "outputs": [
    {
     "data": {
      "text/html": [
       "<div>\n",
       "<style scoped>\n",
       "    .dataframe tbody tr th:only-of-type {\n",
       "        vertical-align: middle;\n",
       "    }\n",
       "\n",
       "    .dataframe tbody tr th {\n",
       "        vertical-align: top;\n",
       "    }\n",
       "\n",
       "    .dataframe thead th {\n",
       "        text-align: right;\n",
       "    }\n",
       "</style>\n",
       "<table border=\"1\" class=\"dataframe\">\n",
       "  <thead>\n",
       "    <tr style=\"text-align: right;\">\n",
       "      <th></th>\n",
       "      <th>Missing Values</th>\n",
       "      <th>Data Type</th>\n",
       "      <th>Duplicate Rows</th>\n",
       "    </tr>\n",
       "  </thead>\n",
       "  <tbody>\n",
       "    <tr>\n",
       "      <th>male</th>\n",
       "      <td>0</td>\n",
       "      <td>int64</td>\n",
       "      <td>0</td>\n",
       "    </tr>\n",
       "    <tr>\n",
       "      <th>age</th>\n",
       "      <td>0</td>\n",
       "      <td>int64</td>\n",
       "      <td>0</td>\n",
       "    </tr>\n",
       "    <tr>\n",
       "      <th>education</th>\n",
       "      <td>105</td>\n",
       "      <td>float64</td>\n",
       "      <td>0</td>\n",
       "    </tr>\n",
       "    <tr>\n",
       "      <th>currentSmoker</th>\n",
       "      <td>0</td>\n",
       "      <td>int64</td>\n",
       "      <td>0</td>\n",
       "    </tr>\n",
       "    <tr>\n",
       "      <th>cigsPerDay</th>\n",
       "      <td>29</td>\n",
       "      <td>float64</td>\n",
       "      <td>0</td>\n",
       "    </tr>\n",
       "    <tr>\n",
       "      <th>BPMeds</th>\n",
       "      <td>53</td>\n",
       "      <td>float64</td>\n",
       "      <td>0</td>\n",
       "    </tr>\n",
       "    <tr>\n",
       "      <th>prevalentStroke</th>\n",
       "      <td>0</td>\n",
       "      <td>int64</td>\n",
       "      <td>0</td>\n",
       "    </tr>\n",
       "    <tr>\n",
       "      <th>prevalentHyp</th>\n",
       "      <td>0</td>\n",
       "      <td>int64</td>\n",
       "      <td>0</td>\n",
       "    </tr>\n",
       "    <tr>\n",
       "      <th>diabetes</th>\n",
       "      <td>0</td>\n",
       "      <td>int64</td>\n",
       "      <td>0</td>\n",
       "    </tr>\n",
       "    <tr>\n",
       "      <th>totChol</th>\n",
       "      <td>50</td>\n",
       "      <td>float64</td>\n",
       "      <td>0</td>\n",
       "    </tr>\n",
       "    <tr>\n",
       "      <th>sysBP</th>\n",
       "      <td>0</td>\n",
       "      <td>float64</td>\n",
       "      <td>0</td>\n",
       "    </tr>\n",
       "    <tr>\n",
       "      <th>diaBP</th>\n",
       "      <td>0</td>\n",
       "      <td>float64</td>\n",
       "      <td>0</td>\n",
       "    </tr>\n",
       "    <tr>\n",
       "      <th>BMI</th>\n",
       "      <td>19</td>\n",
       "      <td>float64</td>\n",
       "      <td>0</td>\n",
       "    </tr>\n",
       "    <tr>\n",
       "      <th>heartRate</th>\n",
       "      <td>1</td>\n",
       "      <td>float64</td>\n",
       "      <td>0</td>\n",
       "    </tr>\n",
       "    <tr>\n",
       "      <th>glucose</th>\n",
       "      <td>388</td>\n",
       "      <td>float64</td>\n",
       "      <td>0</td>\n",
       "    </tr>\n",
       "    <tr>\n",
       "      <th>TenYearCHD</th>\n",
       "      <td>0</td>\n",
       "      <td>int64</td>\n",
       "      <td>0</td>\n",
       "    </tr>\n",
       "  </tbody>\n",
       "</table>\n",
       "</div>"
      ],
      "text/plain": [
       "                 Missing Values Data Type  Duplicate Rows\n",
       "male                          0     int64               0\n",
       "age                           0     int64               0\n",
       "education                   105   float64               0\n",
       "currentSmoker                 0     int64               0\n",
       "cigsPerDay                   29   float64               0\n",
       "BPMeds                       53   float64               0\n",
       "prevalentStroke               0     int64               0\n",
       "prevalentHyp                  0     int64               0\n",
       "diabetes                      0     int64               0\n",
       "totChol                      50   float64               0\n",
       "sysBP                         0   float64               0\n",
       "diaBP                         0   float64               0\n",
       "BMI                          19   float64               0\n",
       "heartRate                     1   float64               0\n",
       "glucose                     388   float64               0\n",
       "TenYearCHD                    0     int64               0"
      ]
     },
     "execution_count": 9,
     "metadata": {},
     "output_type": "execute_result"
    }
   ],
   "source": [
    "#Q1 (a)\n",
    "# Performing some of the above data cleaning steps on the dataset\n",
    "# Check for missing values\n",
    "missing_values = df.isnull().sum()\n",
    "\n",
    "# Check the data types of each column\n",
    "data_types = df.dtypes\n",
    "\n",
    "# Check for duplicate rows\n",
    "duplicate_rows = df.duplicated().sum()\n",
    "\n",
    "# Summary of missing values, data types, and duplicate rows\n",
    "summary = pd.DataFrame({\n",
    "    \"Missing Values\": missing_values,\n",
    "    \"Data Type\": data_types,\n",
    "    \"Duplicate Rows\": duplicate_rows\n",
    "})\n",
    "\n",
    "# Display the summary\n",
    "summary"
   ]
  },
  {
   "cell_type": "markdown",
   "metadata": {},
   "source": [
    "#Q1 (a)\n",
    "The dataset analysis reveals several aspects for data cleaning:\n",
    "\n",
    "1. Missing Values: Some columns, such as education, cigsPerDay, BPMeds, totChol, BMI, heartRate, and glucose, have missing values. We need to decide whether to drop these rows or fill them with appropriate values (e.g., mean or median).\n",
    "2. Data Types: The data types are mostly correct, with numerical columns identified as int64 or float64.\n",
    "3. Duplicates: No duplicate rows were found.\n",
    "\n",
    "Next, let's handle the missing values and finalize the cleaning process. I will:\n",
    "\n",
    "1. Fill missing values in numerical columns with the median.\n",
    "2. Drop rows with excessive missing data in critical columns (glucose has many missing values)."
   ]
  },
  {
   "cell_type": "code",
   "execution_count": 14,
   "metadata": {},
   "outputs": [
    {
     "data": {
      "text/plain": [
       "male               0\n",
       "age                0\n",
       "education          0\n",
       "currentSmoker      0\n",
       "cigsPerDay         0\n",
       "BPMeds             0\n",
       "prevalentStroke    0\n",
       "prevalentHyp       0\n",
       "diabetes           0\n",
       "totChol            0\n",
       "sysBP              0\n",
       "diaBP              0\n",
       "BMI                0\n",
       "heartRate          0\n",
       "glucose            0\n",
       "TenYearCHD         0\n",
       "dtype: int64"
      ]
     },
     "execution_count": 14,
     "metadata": {},
     "output_type": "execute_result"
    }
   ],
   "source": [
    "#Q1 (a)\n",
    "# Fill missing numerical values with the median of each column\n",
    "df.fillna(df.median(numeric_only=True), inplace=True)\n",
    "\n",
    "# Verify if all missing values have been handled\n",
    "cleaned_summary = df.isnull().sum()\n",
    "\n",
    "# Display the cleaned summary\n",
    "cleaned_summary"
   ]
  },
  {
   "cell_type": "markdown",
   "metadata": {},
   "source": [
    "#Q1 (a)\n",
    "\n",
    "The data cleaning process is complete. All missing values have been filled using the median, and there are no remaining missing values in the dataset."
   ]
  },
  {
   "cell_type": "markdown",
   "metadata": {},
   "source": [
    "---"
   ]
  },
  {
   "cell_type": "code",
   "execution_count": 30,
   "metadata": {},
   "outputs": [
    {
     "name": "stdout",
     "output_type": "stream",
     "text": [
      "Accuracy: 0.8349056603773585\n",
      "Confusion Matrix:\n",
      " [[1042   35]\n",
      " [ 175   20]]\n"
     ]
    }
   ],
   "source": [
    "#Q1 (b)\n",
    "from sklearn.model_selection import train_test_split\n",
    "from sklearn.preprocessing import StandardScaler\n",
    "from sklearn.neighbors import KNeighborsClassifier\n",
    "from sklearn.metrics import accuracy_score, confusion_matrix\n",
    "\n",
    "# Split the data into features (X) and target variable (y)\n",
    "X = df.drop(columns=[\"TenYearCHD\"])\n",
    "y = df[\"TenYearCHD\"]\n",
    "\n",
    "# Standardize the feature data\n",
    "scaler = StandardScaler()\n",
    "X_scaled = scaler.fit_transform(X)\n",
    "\n",
    "# Split the data into training (70%) and testing (30%) sets\n",
    "X_train, X_test, y_train, y_test = train_test_split(X_scaled, y, test_size=0.3, random_state=42)\n",
    "\n",
    "# Initialize and train the KNN model with K=5\n",
    "knn_model = KNeighborsClassifier(n_neighbors=5)\n",
    "knn_model.fit(X_train, y_train)\n",
    "\n",
    "# Make predictions on the test data\n",
    "y_pred = knn_model.predict(X_test)\n",
    "\n",
    "# Calculate accuracy and confusion matrix\n",
    "accuracy = accuracy_score(y_test, y_pred)\n",
    "conf_matrix = confusion_matrix(y_test, y_pred)\n",
    "\n",
    "# Display results\n",
    "print('Accuracy:', accuracy)\n",
    "print(\"Confusion Matrix:\\n\", conf_matrix)"
   ]
  },
  {
   "cell_type": "markdown",
   "metadata": {},
   "source": [
    "#Q1 (b)\n",
    "\n",
    "Model Results:\n",
    "* Accuracy: The KNN model achieved an accuracy of 83.49% on the test dataset.\n",
    "\n",
    "Confusion Matrix Explanation:\n",
    "* True Negatives (1042): The model correctly predicted 1042 instances as \"No risk\" (0) for TenYearCHD.\n",
    "* False Positives (35): The model incorrectly predicted \"Yes risk\" (1) for 35 instances that were actually \"No risk\" (0).\n",
    "* False Negatives (175): The model incorrectly predicted \"No risk\" (0) for 175 instances that were actually \"Yes risk\" (1).\n",
    "* True Positives (20): The model correctly predicted 20 instances as \"Yes risk\" (1) for TenYearCHD.\n",
    "\n",
    "The model has good performance in identifying individuals without the risk, but it struggles more with correctly identifying those who are at risk (low number of true positives). This suggests potential issues with imbalanced classes."
   ]
  },
  {
   "cell_type": "markdown",
   "metadata": {},
   "source": [
    "---"
   ]
  },
  {
   "cell_type": "code",
   "execution_count": 39,
   "metadata": {},
   "outputs": [
    {
     "data": {
      "image/png": "[encoded data removed]",
      "text/plain": [
       "<Figure size 1000x600 with 1 Axes>"
      ]
     },
     "metadata": {},
     "output_type": "display_data"
    },
    {
     "name": "stdout",
     "output_type": "stream",
     "text": [
      "Best K value: 13\n"
     ]
    }
   ],
   "source": [
    "#Q1 (c)\n",
    "from sklearn.model_selection import cross_val_score\n",
    "import matplotlib.pyplot as plt\n",
    "\n",
    "# Create a range of K values from 1 to 50 with steps of 2\n",
    "k_values = list(range(1, 51, 2))\n",
    "average_accuracies = []\n",
    "\n",
    "# Compute the average accuracy over 10-fold cross-validation for each K value\n",
    "for k in k_values:\n",
    "    knn_model = KNeighborsClassifier(n_neighbors=k)\n",
    "    # Perform 10-fold cross-validation and store the mean accuracy\n",
    "    scores = cross_val_score(knn_model, X_scaled, y, cv=10, scoring=\"accuracy\")\n",
    "    average_accuracies.append(scores.mean())\n",
    "\n",
    "# Plot the average accuracy for each K value\n",
    "plt.figure(figsize=(10, 6))\n",
    "plt.plot(k_values, average_accuracies, marker='o')\n",
    "plt.title(\"Average Accuracy for Different K Values (KNN)\")\n",
    "plt.xlabel(\"K Value\")\n",
    "plt.ylabel(\"Average Accuracy\")\n",
    "plt.xticks(k_values)\n",
    "plt.grid()\n",
    "plt.show()\n",
    "\n",
    "# Determine the best K value (with the highest average accuracy)\n",
    "best_k = k_values[average_accuracies.index(max(average_accuracies))]\n",
    "print('Best K value:', best_k)"
   ]
  },
  {
   "cell_type": "markdown",
   "metadata": {},
   "source": [
    "#Q1 (c)\n",
    "\n",
    "The plot shows the average accuracy for different K values in the KNN model. Based on the results, the best K value is the one that maximizes the average accuracy. In this case, the optimal K value is:\n",
    "\n",
    "K = 13\n",
    "\n",
    "This K value provides the highest average accuracy over 10-fold cross-validation."
   ]
  },
  {
   "cell_type": "markdown",
   "metadata": {},
   "source": [
    "---"
   ]
  },
  {
   "cell_type": "markdown",
   "metadata": {},
   "source": [
    "# Question 2\n",
    "\n",
    "The goal of Q2 is to make a function that can calculate the weighted gini impurity over any grouping and any size of classes. \n",
    "\n",
    "(a) Calculate the gini impurity of the example by hand. Then write some code to do it for you. You will have to find $p_0$ and $p_1$ which are the probabilities of selecting a 0 and a 1 (respectively) from the group.\n",
    "\n",
    "(b) Now say we have two groups? Calculate the gini index of each group. Now, make a weighted sum of the gini numbers, each weighted by the proportion of the group size to the total number of entries (i.e. if group 1 is of length 10 and group 2 is of length 15, then group 1 would have a weight of 2/5 and group 2 a weight of 3/5).\n",
    "\n",
    "(c) Generalize that bit of code you wrote to now deal with any number of groups with any number of classes. Assume the groups will be given as a list of lists, and if there is an empty group the gini number will be 0 (there needs to be an if statement to make sure we do not divide by 0).\n",
    "\n",
    "(d) Make that bit of code into a function called gini_imp which takes a 'groups' variable and a 'classes' variable. It should return the gini index. Note, you need to use the classes variable because that is how you know what classes to check for in each group. Test it on the same example from part (c)"
   ]
  },
  {
   "cell_type": "code",
   "execution_count": 43,
   "metadata": {},
   "outputs": [],
   "source": [
    "#Q2 (a)\n",
    "\n",
    "###This is the example\n",
    "classes = [0,1]\n",
    "group = [0,0,0,1,1,0,1,0,0]\n"
   ]
  },
  {
   "cell_type": "markdown",
   "metadata": {},
   "source": [
    "#Q2 (a)\n",
    "\n",
    "The Gini Impurity measures the impurity or heterogeneity of a group. It is calculated using the formula:\n",
    "\n",
    "Gini Impurity = 1 - (p0^2 + p1^2)\n",
    "\n",
    "Where:\n",
    "* p0 is the probability of selecting a 0 from the group.\n",
    "* p1 is the probability of selecting a 1 from the group.\n",
    "\n",
    "Given the group: [0, 0, 0, 1, 1, 0, 1, 0, 0]\n",
    "* Total number of elements: n = 9\n",
    "* Number of 0's: n0 = 6\n",
    "* Number of 1's: n1 = 3\n",
    "\n",
    "Now we can find the probabilities:\n",
    "* p0 = n0/n = 6/9 = 0.6667\n",
    "* p1 = n1/n = 3/9 = 0.3333\n",
    "\n",
    "Using the formula Gini Impurity = 1 - (p0^2 + p1^2):\n",
    "* Gini Impurity = 1 - (0.6667^2 + 0.3333^2)\n",
    "* Gini Impurity = 1 - (0.4444 + 0.1111) = 1 - 0.5555 = 0.4444\n",
    "\n",
    "Thus, the Gini Impurity of the example is 0.4444"
   ]
  },
  {
   "cell_type": "code",
   "execution_count": 49,
   "metadata": {},
   "outputs": [
    {
     "name": "stdout",
     "output_type": "stream",
     "text": [
      "Gini Impurity: 0.4444\n"
     ]
    }
   ],
   "source": [
    "#Q2 (a)\n",
    "# Now I will write code to automate this calculation\n",
    "def gini_impurity(group):\n",
    "    n = len(group)\n",
    "    n0 = group.count(0)\n",
    "    n1 = group.count(1)\n",
    "    \n",
    "    p0 = n0 / n\n",
    "    p1 = n1 / n\n",
    "    \n",
    "    gini = 1 - (p0 ** 2 + p1 ** 2)\n",
    "    return gini\n",
    "\n",
    "# Example group\n",
    "group = [0, 0, 0, 1, 1, 0, 1, 0, 0]\n",
    "gini = gini_impurity(group)\n",
    "print(f\"Gini Impurity: {gini:.4f}\")"
   ]
  },
  {
   "cell_type": "markdown",
   "metadata": {},
   "source": [
    "----"
   ]
  },
  {
   "cell_type": "code",
   "execution_count": 53,
   "metadata": {},
   "outputs": [
    {
     "name": "stdout",
     "output_type": "stream",
     "text": [
      "Weighted Gini Index: 0.4375\n"
     ]
    }
   ],
   "source": [
    "#Q2 (b)\n",
    "classes = [0,1]\n",
    "groups = [[0,0,0,1],[0,0,1,1]]\n",
    "\n",
    "def gini_impurity(group):\n",
    "    n = len(group)\n",
    "    n0 = group.count(0)\n",
    "    n1 = group.count(1)\n",
    "    \n",
    "    p0 = n0 / n\n",
    "    p1 = n1 / n\n",
    "    \n",
    "    return 1 - (p0 ** 2 + p1 ** 2)\n",
    "\n",
    "def weighted_gini_index(groups):\n",
    "    total_length = sum(len(group) for group in groups)\n",
    "    weighted_gini = 0\n",
    "    \n",
    "    for group in groups:\n",
    "        weight = len(group) / total_length\n",
    "        gini = gini_impurity(group)\n",
    "        weighted_gini += weight * gini\n",
    "    \n",
    "    return weighted_gini\n",
    "\n",
    "# Example groups\n",
    "groups = [[0, 0, 0, 1], [0, 0, 1, 1]]\n",
    "weighted_gini = weighted_gini_index(groups)\n",
    "print(f\"Weighted Gini Index: {weighted_gini:.4f}\")"
   ]
  },
  {
   "cell_type": "markdown",
   "metadata": {},
   "source": [
    "---"
   ]
  },
  {
   "cell_type": "code",
   "execution_count": 56,
   "metadata": {},
   "outputs": [
    {
     "name": "stdout",
     "output_type": "stream",
     "text": [
      "Weighted Gini Index: 0.5684\n"
     ]
    }
   ],
   "source": [
    "#Q2 (c)\n",
    "###test your bit of code with:\n",
    "classes = [0,1,2,3]\n",
    "groups = [[0,3,1,1,1],[0,0,0,1],[2,3,1,1],[],[0,0,1,1,2,2]]\n",
    "\n",
    "def gini_impurity(group, classes):\n",
    "    n = len(group)\n",
    "    \n",
    "    # If the group is empty, return Gini impurity as 0\n",
    "    if n == 0:\n",
    "        return 0\n",
    "\n",
    "    # Calculate the probability for each class\n",
    "    probabilities = [(group.count(cls) / n) for cls in classes]\n",
    "    \n",
    "    # Compute the Gini impurity\n",
    "    gini = 1 - sum(p ** 2 for p in probabilities)\n",
    "    return gini\n",
    "\n",
    "def weighted_gini_index(groups, classes):\n",
    "    total_length = sum(len(group) for group in groups)\n",
    "    weighted_gini = 0\n",
    "    \n",
    "    # Iterate through each group and calculate its weighted Gini impurity\n",
    "    for group in groups:\n",
    "        group_length = len(group)\n",
    "        \n",
    "        # If the group is empty, skip its contribution (weight * 0 = 0)\n",
    "        if group_length == 0:\n",
    "            continue\n",
    "        \n",
    "        weight = group_length / total_length\n",
    "        gini = gini_impurity(group, classes)\n",
    "        weighted_gini += weight * gini\n",
    "    \n",
    "    return weighted_gini\n",
    "\n",
    "# Test case\n",
    "classes = [0, 1, 2, 3]\n",
    "groups = [[0, 3, 1, 1, 1], [0, 0, 0, 1], [2, 3, 1, 1], [], [0, 0, 1, 1, 2, 2]]\n",
    "\n",
    "# Calculate the weighted Gini index\n",
    "weighted_gini = weighted_gini_index(groups, classes)\n",
    "print(f\"Weighted Gini Index: {weighted_gini:.4f}\")\n",
    "\n",
    "\n",
    "###You should get a gini number equal to 0.5684"
   ]
  },
  {
   "cell_type": "markdown",
   "metadata": {},
   "source": [
    "---"
   ]
  },
  {
   "cell_type": "code",
   "execution_count": 59,
   "metadata": {},
   "outputs": [
    {
     "name": "stdout",
     "output_type": "stream",
     "text": [
      "Gini Index: 0.5684\n"
     ]
    }
   ],
   "source": [
    "#Q2 (d)\n",
    "\n",
    "def gini_imp(groups, classes):\n",
    "    def gini_impurity(group, classes):\n",
    "        n = len(group)\n",
    "        if n == 0:\n",
    "            return 0\n",
    "        \n",
    "        # Calculate the probabilities for each class\n",
    "        probabilities = [(group.count(cls) / n) for cls in classes]\n",
    "        \n",
    "        # Compute the Gini impurity\n",
    "        gini = 1 - sum(p ** 2 for p in probabilities)\n",
    "        return gini\n",
    "\n",
    "    total_length = sum(len(group) for group in groups)\n",
    "    weighted_gini = 0\n",
    "\n",
    "    # Calculate the weighted Gini impurity for all groups\n",
    "    for group in groups:\n",
    "        group_length = len(group)\n",
    "        if group_length == 0:\n",
    "            continue\n",
    "        \n",
    "        weight = group_length / total_length\n",
    "        gini = gini_impurity(group, classes)\n",
    "        weighted_gini += weight * gini\n",
    "\n",
    "    return weighted_gini\n",
    "\n",
    "# Test case\n",
    "classes = [0, 1, 2, 3]\n",
    "groups = [[0, 3, 1, 1, 1], [0, 0, 0, 1], [2, 3, 1, 1], [], [0, 0, 1, 1, 2, 2]]\n",
    "\n",
    "# Calculate the Gini index\n",
    "gini_index = gini_imp(groups, classes)\n",
    "print(f\"Gini Index: {gini_index:.4f}\")"
   ]
  },
  {
   "cell_type": "markdown",
   "metadata": {},
   "source": [
    "---"
   ]
  },
  {
   "cell_type": "markdown",
   "metadata": {},
   "source": [
    "# Question 3\n",
    "\n",
    "To make a full decision trees\n",
    "\n",
    "(a) Load the datasets titanic_train_data and titanic_test_data into dataframes and split them into X_train, X_test, y_train and y_test (the training sets are coming from the titanic train data and visa versa). Note, the first two columns should be deleted because they are just passenger Id's, also documentation about the data can be found here:https://www.kaggle.com/azeembootwala/titanic. Create a Decision Tree instance, fit the data on the training sets and get the accuracy score on the test set. Report the confusion matrix.\n",
    "\n",
    "(b) Split the X_train and y_train data into sets called X_train,X_val, y_train, y_val using train_test_split. We are going to try and tune some parameters in the Decision tree. Called a new Decision Tree instance with the following parameters: **max_features, max_depth, and min_samples_leaf**. Choose some value to test them with, and run the model a few times to see if you can get different accuracy scores (use the X_val and y_val to get the accuracy scores). What do these parameters do? (Look them up in the documentation)\n",
    "\n",
    "(c) We are going to use the validation sets to try and find the best parameter combinations. So, use a triple for loop to iterate over different ranges for each of the three parameters, find what combination gives the best accuracy on the validation set. Then, use that combination on a decision tree to classify the test set."
   ]
  },
  {
   "cell_type": "code",
   "execution_count": 61,
   "metadata": {},
   "outputs": [
    {
     "name": "stdout",
     "output_type": "stream",
     "text": [
      "Accuracy: 0.8\n",
      "Confusion Matrix:\n",
      " [[52 12]\n",
      " [ 8 28]]\n"
     ]
    }
   ],
   "source": [
    "#Q3 (a)\n",
    "import pandas as pd\n",
    "from sklearn.tree import DecisionTreeClassifier\n",
    "from sklearn.model_selection import train_test_split\n",
    "from sklearn.metrics import accuracy_score, confusion_matrix\n",
    "\n",
    "# Load the datasets\n",
    "train_path = \"/Users/hannahmarr/Desktop/Tufts/DATA201/titanic_train_data.csv\"\n",
    "test_path = \"/Users/hannahmarr/Desktop/Tufts/DATA201/titanic_test_data.csv\"\n",
    "\n",
    "titanic_train_data = pd.read_csv(train_path)\n",
    "titanic_test_data = pd.read_csv(test_path)\n",
    "\n",
    "# Drop the first two columns (Passenger ID and another irrelevant column)\n",
    "titanic_train_data = titanic_train_data.iloc[:, 2:]\n",
    "titanic_test_data = titanic_test_data.iloc[:, 2:]\n",
    "\n",
    "# Separate features and target variable\n",
    "X_train = titanic_train_data.drop(\"Survived\", axis=1)\n",
    "y_train = titanic_train_data[\"Survived\"]\n",
    "\n",
    "X_test = titanic_test_data.drop(\"Survived\", axis=1)\n",
    "y_test = titanic_test_data[\"Survived\"]\n",
    "\n",
    "# Create Decision Tree model and fit it\n",
    "clf = DecisionTreeClassifier(random_state=42)\n",
    "clf.fit(X_train, y_train)\n",
    "\n",
    "# Make predictions\n",
    "y_pred = clf.predict(X_test)\n",
    "\n",
    "# Calculate accuracy score and confusion matrix\n",
    "accuracy = accuracy_score(y_test, y_pred)\n",
    "conf_matrix = confusion_matrix(y_test, y_pred)\n",
    "\n",
    "print('Accuracy:', accuracy)\n",
    "print('Confusion Matrix:\\n', conf_matrix)"
   ]
  },
  {
   "cell_type": "markdown",
   "metadata": {},
   "source": [
    "#Q3 (a)\n",
    "\n",
    "The accuracy of the Decision Tree model on the Titanic test data is 80%.\n",
    "\n",
    "This matrix indicates:\n",
    "* 52 true negatives (correctly predicted as not survived)\n",
    "* 28 true positives (correctly predicted as survived)\n",
    "* 12 false positives (incorrectly predicted as survived)\n",
    "* 8 false negatives (incorrectly predicted as not survived) ​"
   ]
  },
  {
   "cell_type": "markdown",
   "metadata": {},
   "source": [
    "---"
   ]
  },
  {
   "cell_type": "code",
   "execution_count": 65,
   "metadata": {},
   "outputs": [
    {
     "name": "stdout",
     "output_type": "stream",
     "text": [
      "Accuracy: 0.8050314465408805\n"
     ]
    }
   ],
   "source": [
    "#Q3 (b)\n",
    "# Import train_test_split again for validation split\n",
    "from sklearn.model_selection import train_test_split\n",
    "\n",
    "# Split the training data into training and validation sets\n",
    "X_train, X_val, y_train, y_val = train_test_split(X_train, y_train, test_size=0.2, random_state=42)\n",
    "\n",
    "# Initialize a Decision Tree with some parameters to test\n",
    "clf_tuned = DecisionTreeClassifier(\n",
    "    max_features='sqrt',    # Testing with 'sqrt' (square root of the number of features)\n",
    "    max_depth=5,            # Setting a maximum depth of 5\n",
    "    min_samples_leaf=4,     # Minimum samples required to be at a leaf node\n",
    "    random_state=42\n",
    ")\n",
    "\n",
    "# Fit the model on the training data\n",
    "clf_tuned.fit(X_train, y_train)\n",
    "\n",
    "# Evaluate the model on the validation set\n",
    "y_val_pred = clf_tuned.predict(X_val)\n",
    "accuracy_val = accuracy_score(y_val, y_val_pred)\n",
    "\n",
    "print('Accuracy:', accuracy_val)"
   ]
  },
  {
   "cell_type": "markdown",
   "metadata": {},
   "source": [
    "#Q3 (b)\n",
    "\n",
    "With the chosen parameters (max_features='sqrt', max_depth=5, and min_samples_leaf=4), the accuracy score on the validation set is 80.5%.\n",
    "\n",
    "Explanation of the Parameters:\n",
    "* max_features: This parameter controls the number of features considered for splitting at each node. Using 'sqrt' means that the number of features is limited to the square root of the total features. This can help reduce overfitting by limiting the model's ability to fit noise in the data.\n",
    "* max_depth: This parameter sets the maximum depth of the tree. Limiting the depth can prevent the model from becoming overly complex, reducing the risk of overfitting.\n",
    "* min_samples_leaf: This defines the minimum number of samples required to be at a leaf node. By setting a higher value, we ensure that leaf nodes have more samples, which helps in creating a more generalized model."
   ]
  },
  {
   "cell_type": "markdown",
   "metadata": {},
   "source": [
    "---"
   ]
  },
  {
   "cell_type": "code",
   "execution_count": 69,
   "metadata": {},
   "outputs": [
    {
     "name": "stdout",
     "output_type": "stream",
     "text": [
      "Best Accuracy: 0.8490566037735849\n",
      "Best Parameters: {'max_features': 'sqrt', 'max_depth': 9, 'min_samples_leaf': 1}\n"
     ]
    }
   ],
   "source": [
    "#Q3 (c)\n",
    "# Define ranges for the parameters to be tested\n",
    "max_features_options = ['sqrt', 'log2', None]\n",
    "max_depth_options = range(3, 11)  # Testing depths from 3 to 10\n",
    "min_samples_leaf_options = range(1, 6)  # Testing minimum samples from 1 to 5\n",
    "\n",
    "best_accuracy = 0\n",
    "best_params = {}\n",
    "\n",
    "# Triple for loop to iterate over all combinations of the parameters\n",
    "for max_features in max_features_options:\n",
    "    for max_depth in max_depth_options:\n",
    "        for min_samples_leaf in min_samples_leaf_options:\n",
    "            # Initialize the Decision Tree with the current parameter combination\n",
    "            clf = DecisionTreeClassifier(\n",
    "                max_features=max_features,\n",
    "                max_depth=max_depth,\n",
    "                min_samples_leaf=min_samples_leaf,\n",
    "                random_state=42\n",
    "            )\n",
    "            # Fit the model on the training set\n",
    "            clf.fit(X_train, y_train)\n",
    "\n",
    "            # Evaluate on the validation set\n",
    "            y_val_pred = clf.predict(X_val)\n",
    "            accuracy_val = accuracy_score(y_val, y_val_pred)\n",
    "\n",
    "            # Check if this is the best accuracy so far\n",
    "            if accuracy_val > best_accuracy:\n",
    "                best_accuracy = accuracy_val\n",
    "                best_params = {\n",
    "                    \"max_features\": max_features,\n",
    "                    \"max_depth\": max_depth,\n",
    "                    \"min_samples_leaf\": min_samples_leaf\n",
    "                }\n",
    "\n",
    "# Output the best parameters and the best validation accuracy\n",
    "print('Best Accuracy:', best_accuracy)\n",
    "print('Best Parameters:', best_params)"
   ]
  },
  {
   "cell_type": "markdown",
   "metadata": {},
   "source": [
    "#Q3 (c)\n",
    "\n",
    "The best parameter combination found on the validation set is:\n",
    "* max_features: 'sqrt'\n",
    "* max_depth: 9\n",
    "* min_samples_leaf: 1\n",
    "\n",
    "This achieved a validation accuracy of 84.9%.\n",
    "\n",
    "Now, I will use this combination to fit a Decision Tree on the training data and evaluate its performance on the test set. "
   ]
  },
  {
   "cell_type": "code",
   "execution_count": 73,
   "metadata": {},
   "outputs": [
    {
     "name": "stdout",
     "output_type": "stream",
     "text": [
      "Test Accuracy: 0.84\n",
      "Test Confusion Matrix:\n",
      " [[58  6]\n",
      " [10 26]]\n"
     ]
    }
   ],
   "source": [
    "#Q3 (c)\n",
    "# Initialize the Decision Tree with the best found parameters\n",
    "best_clf = DecisionTreeClassifier(\n",
    "    max_features=best_params[\"max_features\"],\n",
    "    max_depth=best_params[\"max_depth\"],\n",
    "    min_samples_leaf=best_params[\"min_samples_leaf\"],\n",
    "    random_state=42\n",
    ")\n",
    "\n",
    "# Fit the model on the entire training data\n",
    "best_clf.fit(X_train, y_train)\n",
    "\n",
    "# Make predictions on the test set\n",
    "y_test_pred = best_clf.predict(X_test)\n",
    "\n",
    "# Calculate accuracy and confusion matrix on the test set\n",
    "test_accuracy = accuracy_score(y_test, y_test_pred)\n",
    "test_conf_matrix = confusion_matrix(y_test, y_test_pred)\n",
    "\n",
    "print('Test Accuracy:', test_accuracy)\n",
    "print('Test Confusion Matrix:\\n', test_conf_matrix)"
   ]
  },
  {
   "cell_type": "markdown",
   "metadata": {},
   "source": [
    "#Q3 (c)\n",
    "\n",
    "Using the best parameter combination, the accuracy on the test set is 84%\n",
    "\n",
    "The confusion matrix indicates:\n",
    "* 58 true negatives (correctly predicted as not survived)\n",
    "* 26 true positives (correctly predicted as survived)\n",
    "* 6 false positives (incorrectly predicted as survived)\n",
    "* 10 false negatives (incorrectly predicted as not survived)\n",
    "\n",
    "This model performs well and shows an improvement after tuning the parameters."
   ]
  },
  {
   "cell_type": "markdown",
   "metadata": {},
   "source": [
    "---"
   ]
  },
  {
   "cell_type": "markdown",
   "metadata": {},
   "source": [
    "# Question 4\n",
    "\n",
    "Let's move onto random forests, we'll be doing more parameter tuning here.\n",
    "\n",
    "(a) With the original train and test sets, run a Random Forest model on the data and report the accuracy score. How does it compare to the scores in Question 3?\n",
    "\n",
    "(b) Create the train and validation sets again, and create a Random Forest Classifier with the following parameters: **n_estimators, max_leaf_nodes, max_depth**, with some values. What do this parameters do? (Again look up the documentation) Run the model and see how the accuracy changes. Change the values and try to get a higher accuracy.\n",
    "\n",
    "(c) Similar to Question 3 part (c), use a triple for loop to iterate over combinations of parameter values for the random forest and find one that is optimal in accuracy. How does this accuracy compare to the others we have seen?\n",
    "\n",
    "Note: This kind of parameter opimization can be done using built in python functions, GridSearchCV and RandomSearchCV both are methods that take in some kind of range / distribution for the parameters and finds the best one (and uses cross validation which is a bonus)."
   ]
  },
  {
   "cell_type": "code",
   "execution_count": 83,
   "metadata": {},
   "outputs": [
    {
     "name": "stdout",
     "output_type": "stream",
     "text": [
      "Random Forest Accuracy: 0.85\n"
     ]
    }
   ],
   "source": [
    "#Q4 (a)\n",
    "from sklearn.ensemble import RandomForestClassifier\n",
    "\n",
    "# Reload the original datasets\n",
    "train_path_new = \"/Users/hannahmarr/Desktop/Tufts/DATA201/titanic_train_data.csv\"\n",
    "test_path_new = \"/Users/hannahmarr/Desktop/Tufts/DATA201/titanic_test_data.csv\"\n",
    "\n",
    "# Load the datasets again\n",
    "titanic_train_data = pd.read_csv(train_path_new)\n",
    "titanic_test_data = pd.read_csv(test_path_new)\n",
    "\n",
    "# Drop the first two columns (Passenger ID and another irrelevant column)\n",
    "titanic_train_data = titanic_train_data.iloc[:, 2:]\n",
    "titanic_test_data = titanic_test_data.iloc[:, 2:]\n",
    "\n",
    "# Separate features and target variable\n",
    "X_train = titanic_train_data.drop(\"Survived\", axis=1)\n",
    "y_train = titanic_train_data[\"Survived\"]\n",
    "\n",
    "X_test = titanic_test_data.drop(\"Survived\", axis=1)\n",
    "y_test = titanic_test_data[\"Survived\"]\n",
    "\n",
    "# Initialize and fit the Random Forest model\n",
    "rf_clf = RandomForestClassifier(random_state=42, n_estimators=100)\n",
    "rf_clf.fit(X_train, y_train)\n",
    "\n",
    "# Make predictions on the test set\n",
    "y_test_rf_pred = rf_clf.predict(X_test)\n",
    "\n",
    "# Calculate the accuracy score\n",
    "rf_accuracy = accuracy_score(y_test, y_test_rf_pred)\n",
    "\n",
    "print('Random Forest Accuracy:', rf_accuracy)"
   ]
  },
  {
   "cell_type": "markdown",
   "metadata": {},
   "source": [
    "#Q4 (a)\n",
    "\n",
    "Using the original train and test sets, the Random Forest model achieved an accuracy of 85% on the test set.\n",
    "\n",
    "Comparison:\n",
    "* Random Forest: 85% accuracy\n",
    "* Tuned Decision Tree: 84% accuracy\n",
    "* Untuned Decision Tree: 80% accuracy\n",
    "\n",
    "\n",
    "The Random Forest slightly outperformed the Decision Tree models, highlighting its strength as an ensemble method that reduces variance and typically offers better generalization."
   ]
  },
  {
   "cell_type": "markdown",
   "metadata": {},
   "source": [
    "---"
   ]
  },
  {
   "cell_type": "code",
   "execution_count": 87,
   "metadata": {},
   "outputs": [
    {
     "name": "stdout",
     "output_type": "stream",
     "text": [
      "Random Forest Validation Accuracy: 0.8427672955974843\n"
     ]
    }
   ],
   "source": [
    "#Q4 (b)\n",
    "# Import the necessary module\n",
    "from sklearn.ensemble import RandomForestClassifier\n",
    "from sklearn.model_selection import train_test_split\n",
    "from sklearn.metrics import accuracy_score\n",
    "\n",
    "# Split the original training data into new training and validation sets\n",
    "X_train, X_val, y_train, y_val = train_test_split(X_train, y_train, test_size=0.2, random_state=42)\n",
    "\n",
    "# Initialize the Random Forest model with some parameters\n",
    "rf_clf_tuned = RandomForestClassifier(\n",
    "    n_estimators=150,        # Number of trees in the forest\n",
    "    max_leaf_nodes=20,       # Maximum number of leaf nodes per tree\n",
    "    max_depth=10,            # Maximum depth of each tree\n",
    "    random_state=42\n",
    ")\n",
    "\n",
    "# Fit the model on the training data\n",
    "rf_clf_tuned.fit(X_train, y_train)\n",
    "\n",
    "# Evaluate the model on the validation set\n",
    "y_val_rf_pred = rf_clf_tuned.predict(X_val)\n",
    "rf_val_accuracy = accuracy_score(y_val, y_val_rf_pred)\n",
    "\n",
    "print('Random Forest Validation Accuracy:', rf_val_accuracy)"
   ]
  },
  {
   "cell_type": "markdown",
   "metadata": {},
   "source": [
    "#Q4 (b)\n",
    "\n",
    "With the specified parameters (n_estimators=150, max_leaf_nodes=20, and max_depth=10), the accuracy on the validation set is 84.3%.\n",
    "\n",
    "Explanation of the Parameters:\n",
    "* n_estimators: This is the number of trees in the Random Forest. More trees generally improve performance but also increase computation time.\n",
    "* max_leaf_nodes: This limits the number of leaf nodes per tree, preventing overly complex trees and reducing the risk of overfitting.\n",
    "* max_depth: This sets the maximum depth of each tree. Limiting the depth helps control the complexity of the model and can prevent overfitting."
   ]
  },
  {
   "cell_type": "markdown",
   "metadata": {},
   "source": [
    "---"
   ]
  },
  {
   "cell_type": "code",
   "execution_count": 91,
   "metadata": {},
   "outputs": [
    {
     "name": "stdout",
     "output_type": "stream",
     "text": [
      "Best Random Forest Accuracy: 0.8427672955974843\n",
      "Best Random Forest Parameters: {'n_estimators': 50, 'max_leaf_nodes': 10, 'max_depth': 5}\n"
     ]
    }
   ],
   "source": [
    "#Q4 (c)\n",
    "# Define ranges for the parameters to be tested\n",
    "n_estimators_options = [50, 100, 150, 200]\n",
    "max_leaf_nodes_options = [10, 20, 30, None]\n",
    "max_depth_options = [5, 10, 15, None]\n",
    "\n",
    "best_rf_accuracy = 0\n",
    "best_rf_params = {}\n",
    "\n",
    "# Triple for loop to iterate over all combinations of the parameters\n",
    "for n_estimators in n_estimators_options:\n",
    "    for max_leaf_nodes in max_leaf_nodes_options:\n",
    "        for max_depth in max_depth_options:\n",
    "            # Initialize the Random Forest with the current parameter combination\n",
    "            rf_clf = RandomForestClassifier(\n",
    "                n_estimators=n_estimators,\n",
    "                max_leaf_nodes=max_leaf_nodes,\n",
    "                max_depth=max_depth,\n",
    "                random_state=42\n",
    "            )\n",
    "            # Fit the model on the training data\n",
    "            rf_clf.fit(X_train, y_train)\n",
    "\n",
    "            # Evaluate on the validation set\n",
    "            y_val_pred = rf_clf.predict(X_val)\n",
    "            accuracy_val = accuracy_score(y_val, y_val_pred)\n",
    "\n",
    "            # Check if this is the best accuracy so far\n",
    "            if accuracy_val > best_rf_accuracy:\n",
    "                best_rf_accuracy = accuracy_val\n",
    "                best_rf_params = {\n",
    "                    \"n_estimators\": n_estimators,\n",
    "                    \"max_leaf_nodes\": max_leaf_nodes,\n",
    "                    \"max_depth\": max_depth\n",
    "                }\n",
    "\n",
    "# Output the best parameters and the best validation accuracy\n",
    "print('Best Random Forest Accuracy:', best_rf_accuracy)\n",
    "print('Best Random Forest Parameters:', best_rf_params)"
   ]
  },
  {
   "cell_type": "markdown",
   "metadata": {},
   "source": [
    "#Q4 (c)\n",
    "\n",
    "The best parameter combination found for the Random Forest on the validation set is:\n",
    "* n_estimators: 50\n",
    "* max_leaf_nodes: 10\n",
    "* max_depth: 5\n",
    "\n",
    "This achieved a validation accuracy of 84.3%.\n",
    "\n",
    "Comparison:\n",
    "* Untuned Decision Tree: 80% accuracy\n",
    "* Tuned Decision Tree: 84% accuracy\n",
    "* Untuned Random Forest: 85% accuracy\n",
    "* Tuned Random Forest: 84.3% accuracy\n",
    "\n",
    "In this case, the untuned Random Forest slightly outperformed the tuned versions of both models. This could be due to the simplicity of the dataset, where extensive tuning might not provide additional benefits."
   ]
  },
  {
   "cell_type": "markdown",
   "metadata": {},
   "source": [
    "---"
   ]
  },
  {
   "cell_type": "markdown",
   "metadata": {},
   "source": [
    "# Bonus\n",
    "\n",
    "Come up with an analogy for decision tree's v. random forest's and why random forests avoid the problem of overfitting. (+5)"
   ]
  },
  {
   "cell_type": "markdown",
   "metadata": {},
   "source": [
    "Think of a Decision Tree as a single judge in a courtroom making a ruling based solely on their own perspective. If this judge has a lot of information (i.e., no restrictions like max_depth), they may try to account for every tiny detail, even if those details are just noise or anomalies. This leads to overfitting — making a decision based on specifics that might not apply in general cases.\n",
    "\n",
    "Now imagine a Random Forest as a panel of judges, where each judge gets only a random subset of the evidence (features) and makes their ruling independently. The panel then takes a vote on the final decision. Because each judge sees different parts of the case and they all contribute equally, the final verdict is a blend of their opinions. This process reduces the risk of overfitting because:\n",
    "\n",
    "Diverse Opinions: By giving each judge (tree) different evidence (features), we prevent any single judge from becoming too specific to the details (noise) of a particular case.\n",
    "\n",
    "Averaging Effect: The ensemble decision (average of all trees' predictions) is more robust, reducing the impact of any one judge that might have made a biased or overfitted decision.\n",
    "\n",
    "In essence, a Random Forest is like a team of experts who make more balanced and general decisions than any single expert could on their own. This leads to better generalization on unseen data."
   ]
  }
 ],
 "metadata": {
  "kernelspec": {
   "display_name": "Python 3 (ipykernel)",
   "language": "python",
   "name": "python3"
  },
  "language_info": {
   "codemirror_mode": {
    "name": "ipython",
    "version": 3
   },
   "file_extension": ".py",
   "mimetype": "text/x-python",
   "name": "python",
   "nbconvert_exporter": "python",
   "pygments_lexer": "ipython3",
   "version": "3.12.4"
  }
 },
 "nbformat": 4,
 "nbformat_minor": 4
}
