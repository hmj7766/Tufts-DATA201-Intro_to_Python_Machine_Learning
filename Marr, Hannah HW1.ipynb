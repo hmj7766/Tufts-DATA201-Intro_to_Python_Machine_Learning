{
 "cells": [
  {
   "cell_type": "markdown",
   "id": "f1811538",
   "metadata": {},
   "source": [
    "# Homework 1\n",
    "\n",
    "### Name: Hannah Marr\n",
    "### Collaborator:\n",
    "\n",
    "\n",
    "DATA 201\n",
    "\n",
    "Fall 2024\n",
    "\n",
    "Tufts University"
   ]
  },
  {
   "cell_type": "markdown",
   "id": "17a876f9",
   "metadata": {},
   "source": [
    "## 1. Data Types"
   ]
  },
  {
   "cell_type": "markdown",
   "id": "17b0efc1",
   "metadata": {},
   "source": [
    "### Exercise 1.1: Identify the type of each of the following: 5, 5.5, \"Student\", False."
   ]
  },
  {
   "cell_type": "code",
   "execution_count": 4,
   "id": "6a5c9601",
   "metadata": {},
   "outputs": [
    {
     "data": {
      "text/plain": [
       "int"
      ]
     },
     "execution_count": 4,
     "metadata": {},
     "output_type": "execute_result"
    }
   ],
   "source": [
    "#1.1\n",
    "type(5)"
   ]
  },
  {
   "cell_type": "code",
   "execution_count": 6,
   "id": "026218a7-4a6d-4d87-93d1-036f52f63365",
   "metadata": {},
   "outputs": [
    {
     "data": {
      "text/plain": [
       "float"
      ]
     },
     "execution_count": 6,
     "metadata": {},
     "output_type": "execute_result"
    }
   ],
   "source": [
    "#1.1\n",
    "type(5.5)"
   ]
  },
  {
   "cell_type": "code",
   "execution_count": 8,
   "id": "c44c61f0-613d-44bd-8808-072c20f9825f",
   "metadata": {},
   "outputs": [
    {
     "data": {
      "text/plain": [
       "str"
      ]
     },
     "execution_count": 8,
     "metadata": {},
     "output_type": "execute_result"
    }
   ],
   "source": [
    "#1.1\n",
    "type('Student')"
   ]
  },
  {
   "cell_type": "code",
   "execution_count": 18,
   "id": "ff216d80-d7b5-4251-9feb-bad3743becf8",
   "metadata": {},
   "outputs": [
    {
     "data": {
      "text/plain": [
       "bool"
      ]
     },
     "execution_count": 18,
     "metadata": {},
     "output_type": "execute_result"
    }
   ],
   "source": [
    "#1.1\n",
    "type(False)"
   ]
  },
  {
   "cell_type": "markdown",
   "id": "58f580d0",
   "metadata": {},
   "source": [
    "### Exercise 1.2: Convert the integer 97 into a float, string, and boolean."
   ]
  },
  {
   "cell_type": "code",
   "execution_count": 14,
   "id": "f3d4c07f",
   "metadata": {},
   "outputs": [
    {
     "data": {
      "text/plain": [
       "97.0"
      ]
     },
     "execution_count": 14,
     "metadata": {},
     "output_type": "execute_result"
    }
   ],
   "source": [
    "#1.2\n",
    "float(97)"
   ]
  },
  {
   "cell_type": "code",
   "execution_count": 16,
   "id": "b97d8992-f657-4ff0-a515-35fa3f56322a",
   "metadata": {},
   "outputs": [
    {
     "data": {
      "text/plain": [
       "'97'"
      ]
     },
     "execution_count": 16,
     "metadata": {},
     "output_type": "execute_result"
    }
   ],
   "source": [
    "#1.2\n",
    "str(97)"
   ]
  },
  {
   "cell_type": "code",
   "execution_count": 60,
   "id": "0eb35aaf-6bae-4ab4-b7c5-654e4c8c3827",
   "metadata": {},
   "outputs": [
    {
     "data": {
      "text/plain": [
       "True"
      ]
     },
     "execution_count": 60,
     "metadata": {},
     "output_type": "execute_result"
    }
   ],
   "source": [
    "#1.2\n",
    "bool(97)"
   ]
  },
  {
   "cell_type": "markdown",
   "id": "628978de",
   "metadata": {},
   "source": [
    "## 2. Operators"
   ]
  },
  {
   "cell_type": "markdown",
   "id": "b658a8c6",
   "metadata": {},
   "source": [
    "### Exercise 2.1: Use arithmetic operators to calculate the area of a circle with radius 7. Take pi = 3.14"
   ]
  },
  {
   "cell_type": "code",
   "execution_count": 22,
   "id": "955f1b34",
   "metadata": {},
   "outputs": [
    {
     "name": "stdout",
     "output_type": "stream",
     "text": [
      "153.86\n"
     ]
    }
   ],
   "source": [
    "#2.1\n",
    "# Area of a circle = pi * r^2. Defining variables and inputting into this formula in Python will give us the answer\n",
    "pi = 3.14\n",
    "radius = 7\n",
    "area = pi * (radius ** 2)\n",
    "print(area)"
   ]
  },
  {
   "cell_type": "markdown",
   "id": "6829f0b6",
   "metadata": {},
   "source": [
    "### Exercise 2.2: Determine if the number 32 is even using the modulus operator."
   ]
  },
  {
   "cell_type": "code",
   "execution_count": 24,
   "id": "923479fe",
   "metadata": {},
   "outputs": [
    {
     "data": {
      "text/plain": [
       "True"
      ]
     },
     "execution_count": 24,
     "metadata": {},
     "output_type": "execute_result"
    }
   ],
   "source": [
    "#2.2\n",
    "# If 32 is divisible by 2, there will be zero remainder, and therefore we know it is an even number\n",
    "32 % 2 == 0"
   ]
  },
  {
   "cell_type": "markdown",
   "id": "8088ec20",
   "metadata": {},
   "source": [
    "## 3. Data Structures"
   ]
  },
  {
   "cell_type": "markdown",
   "id": "0a17336e",
   "metadata": {},
   "source": [
    "### Exercise 3.1: Create a list of 4 of your favorite fruits."
   ]
  },
  {
   "cell_type": "code",
   "execution_count": 26,
   "id": "427da231",
   "metadata": {},
   "outputs": [
    {
     "name": "stdout",
     "output_type": "stream",
     "text": [
      "['apple', 'kiwi', 'raspberry', 'plum']\n"
     ]
    }
   ],
   "source": [
    "#3.1\n",
    "myfruits = ['apple', 'kiwi', 'raspberry', 'plum']\n",
    "print(myfruits)"
   ]
  },
  {
   "cell_type": "markdown",
   "id": "daccc772",
   "metadata": {},
   "source": [
    "### Exercise 3.2: Add a new fruit to your list."
   ]
  },
  {
   "cell_type": "code",
   "execution_count": 28,
   "id": "dc76a9e5",
   "metadata": {},
   "outputs": [
    {
     "name": "stdout",
     "output_type": "stream",
     "text": [
      "['apple', 'kiwi', 'raspberry', 'plum', 'nectarine']\n"
     ]
    }
   ],
   "source": [
    "#3.2\n",
    "# The append function adds an object to the end of a list\n",
    "myfruits.append('nectarine')\n",
    "print(myfruits)"
   ]
  },
  {
   "cell_type": "markdown",
   "id": "8984808a",
   "metadata": {},
   "source": [
    "### Exercise 3.3: Convert your fruit list to a tuple."
   ]
  },
  {
   "cell_type": "code",
   "execution_count": 32,
   "id": "63cae7ff",
   "metadata": {},
   "outputs": [
    {
     "name": "stdout",
     "output_type": "stream",
     "text": [
      "('apple', 'kiwi', 'raspberry', 'plum', 'nectarine')\n"
     ]
    }
   ],
   "source": [
    "#3.3\n",
    "# We can directly convert a list to a tuple by calling tuple()\n",
    "myfruits_tuple = tuple(myfruits)\n",
    "print(myfruits_tuple)"
   ]
  },
  {
   "cell_type": "markdown",
   "id": "b2c851cb",
   "metadata": {},
   "source": [
    "### Exercise 3.4: Create a set from the fruit list."
   ]
  },
  {
   "cell_type": "code",
   "execution_count": 34,
   "id": "b7ccf051",
   "metadata": {},
   "outputs": [
    {
     "name": "stdout",
     "output_type": "stream",
     "text": [
      "{'raspberry', 'apple', 'kiwi', 'plum', 'nectarine'}\n"
     ]
    }
   ],
   "source": [
    "#3.4\n",
    "# Similar to the tuple call above, we can turn a list into a set by calling set()\n",
    "myfruits_set = set(myfruits)\n",
    "print(myfruits_set)"
   ]
  },
  {
   "cell_type": "markdown",
   "id": "809328b6",
   "metadata": {},
   "source": [
    "### Exercise 3.5: Create a dictionary where fruits are keys and their colors are values."
   ]
  },
  {
   "cell_type": "code",
   "execution_count": 36,
   "id": "62a7f725",
   "metadata": {},
   "outputs": [
    {
     "name": "stdout",
     "output_type": "stream",
     "text": [
      "{'apple': 'red', 'kiwi': 'green', 'plum': 'purple', 'nectarine': 'yellow'}\n"
     ]
    }
   ],
   "source": [
    "#3.5\n",
    "# A dictionary is characterized by key:value pairs, denoted by 'key':'value'\n",
    "myfruits_dict = {'apple':'red', 'kiwi':'green', 'plum':'purple', 'nectarine':'yellow'}\n",
    "print(myfruits_dict)"
   ]
  },
  {
   "cell_type": "markdown",
   "id": "d65ae132",
   "metadata": {},
   "source": [
    "### Exercise 3.6: Add a new fruit 'Grape' with colours/values 'green' and 'red' to the dictionary."
   ]
  },
  {
   "cell_type": "code",
   "execution_count": 38,
   "id": "8ce5d957",
   "metadata": {},
   "outputs": [
    {
     "name": "stdout",
     "output_type": "stream",
     "text": [
      "{'apple': 'red', 'kiwi': 'green', 'plum': 'purple', 'nectarine': 'yellow', 'grape': ['green', 'red']}\n"
     ]
    }
   ],
   "source": [
    "#3.6\n",
    "# We can add a key with two values in the form of a list\n",
    "myfruits_dict['grape'] = ['green','red']\n",
    "print(myfruits_dict)"
   ]
  },
  {
   "cell_type": "markdown",
   "id": "05181103",
   "metadata": {},
   "source": [
    "## 4. Functions"
   ]
  },
  {
   "cell_type": "markdown",
   "id": "35e66d1e",
   "metadata": {},
   "source": [
    "### Exercise 4.1: Write a function that returns the remainder of the division of any two numbers."
   ]
  },
  {
   "cell_type": "code",
   "execution_count": 40,
   "id": "15bba603",
   "metadata": {},
   "outputs": [
    {
     "name": "stdout",
     "output_type": "stream",
     "text": [
      "0\n"
     ]
    }
   ],
   "source": [
    "#4.1\n",
    "# This function takes two variables as inputs, and uses the modulus operator to find the remainder\n",
    "def remainder(x, y):\n",
    "    return (x % y)\n",
    "print(remainder(6, 2))"
   ]
  },
  {
   "cell_type": "markdown",
   "id": "22f5bd3e",
   "metadata": {},
   "source": [
    "### Exercise 4.2: Write a function that reverses a string without using Python's built-in reverse functions."
   ]
  },
  {
   "cell_type": "code",
   "execution_count": 42,
   "id": "7f228e01",
   "metadata": {},
   "outputs": [
    {
     "data": {
      "text/plain": [
       "'olleh'"
      ]
     },
     "execution_count": 42,
     "metadata": {},
     "output_type": "execute_result"
    }
   ],
   "source": [
    "#4.2\n",
    "# This function reverses the input string by adding each character in reverse order and returning the reversed result\n",
    "def reverse_string(string):\n",
    "    reversed_string = ''\n",
    "    for char in string:\n",
    "        reversed_string = char + reversed_string\n",
    "    return reversed_string\n",
    "\n",
    "reverse_string('hello')"
   ]
  },
  {
   "cell_type": "markdown",
   "id": "9603deb0",
   "metadata": {},
   "source": [
    "## 5. Control Structures"
   ]
  },
  {
   "cell_type": "markdown",
   "id": "df025fae",
   "metadata": {},
   "source": [
    "### Exercise 5.1: Write an if-else structure that prints whether a number is positive, negative, or zero."
   ]
  },
  {
   "cell_type": "code",
   "execution_count": 44,
   "id": "55ebd045",
   "metadata": {},
   "outputs": [
    {
     "name": "stdout",
     "output_type": "stream",
     "text": [
      "Number is positive\n"
     ]
    }
   ],
   "source": [
    "#5.1\n",
    "# This if-elif-else structure starts by evaluating whether the input num is > 0, if it is not it evaluates if it is < 0, and in all other cases, it will print that the number is zero\n",
    "\n",
    "num = 7\n",
    "\n",
    "if num > 0:\n",
    "    print('Number is positive')\n",
    "elif num < 0:\n",
    "    print('Number is negative')\n",
    "else:\n",
    "    print('Number is zero')"
   ]
  },
  {
   "cell_type": "markdown",
   "id": "45b20dc2",
   "metadata": {},
   "source": [
    "### Exercise 5.2: Given a list of grades: grades = [85, 90, 78, 92, 88, 76, 72, 95, 89], write an if-else structure that prints:\n",
    "\n",
    "- \"Excellent\" if the average grade is 95 and above,\n",
    "- \"Good\" if the average grade is between 85 and 94, inclusive,\n",
    "- \"Average\" if the average grade is between 75 and 84, inclusive, and\n",
    "- \"Poor\" otherwise."
   ]
  },
  {
   "cell_type": "code",
   "execution_count": 46,
   "id": "f495a880",
   "metadata": {},
   "outputs": [
    {
     "name": "stdout",
     "output_type": "stream",
     "text": [
      "Good\n"
     ]
    }
   ],
   "source": [
    "#5.2\n",
    "# First we calculate the average of the grades, which is the sum of the grades list divided by the len of the grades list\n",
    "# Then we use an if-elif-else structure to evaluate under which range of grades the average falls, using and statements to encapsulate a range of grades\n",
    "\n",
    "grades = [85, 90, 78, 92, 88, 76, 72, 95, 89]\n",
    "mean_grades = sum(grades) / len(grades)\n",
    "\n",
    "if mean_grades >= 95:\n",
    "    print('Excellent')\n",
    "elif mean_grades >= 85 and mean_grades <= 94:\n",
    "    print('Good')\n",
    "elif mean_grades >= 75 and mean_grades <= 84:\n",
    "    print('Average')\n",
    "else:\n",
    "    print('Poor')"
   ]
  },
  {
   "cell_type": "markdown",
   "id": "d4e0e48a",
   "metadata": {},
   "source": [
    "### Exercise 5.3: Given a variable day that represents a day of the week, use an if-elif-else structure to print:\n",
    "\n",
    "- \"Weekend\" if the day is \"Saturday\" or \"Sunday\",\n",
    "- \"Weekday\" if the day is one of the other 5 days of the week,\n",
    "- \"Invalid\" if the input doesn't match any day of the week."
   ]
  },
  {
   "cell_type": "code",
   "execution_count": 48,
   "id": "2d21c075",
   "metadata": {},
   "outputs": [
    {
     "name": "stdout",
     "output_type": "stream",
     "text": [
      "Weekend\n"
     ]
    }
   ],
   "source": [
    "#5.3\n",
    "# This if-elif-else structure takes an input day and evaluates whether the day matches a set weekday or weekend\n",
    "\n",
    "day = 'Sunday'\n",
    "\n",
    "if day == 'Saturday' or day == 'Sunday':\n",
    "    print('Weekend')\n",
    "elif day == 'Monday' or day == 'Tuesday' or day == 'Wednesday' or day == 'Thursday' or day == 'Friday':\n",
    "    print('Weekday')\n",
    "else:\n",
    "    print('Invalid')"
   ]
  },
  {
   "cell_type": "markdown",
   "id": "bde32896",
   "metadata": {},
   "source": [
    "## 6. Loop and Control Statements"
   ]
  },
  {
   "cell_type": "markdown",
   "id": "4d87486c",
   "metadata": {},
   "source": [
    "### Exercise 6.1: Using a for loop, print numbers from 1 to 10."
   ]
  },
  {
   "cell_type": "code",
   "execution_count": 52,
   "id": "3d88998b",
   "metadata": {},
   "outputs": [
    {
     "name": "stdout",
     "output_type": "stream",
     "text": [
      "0\n",
      "1\n",
      "2\n",
      "3\n",
      "4\n",
      "5\n",
      "6\n",
      "7\n",
      "8\n",
      "9\n",
      "10\n"
     ]
    }
   ],
   "source": [
    "#6.1\n",
    "# If we want to print n numbers, we must iterate through range(n+1)\n",
    "\n",
    "for num in range(11):\n",
    "    print(num)"
   ]
  },
  {
   "cell_type": "markdown",
   "id": "96d8f6b8",
   "metadata": {},
   "source": [
    "### Exercise 6.2: Using a while loop, print numbers from 1 to 10."
   ]
  },
  {
   "cell_type": "code",
   "execution_count": 54,
   "id": "34b145d2",
   "metadata": {},
   "outputs": [
    {
     "name": "stdout",
     "output_type": "stream",
     "text": [
      "1\n",
      "2\n",
      "3\n",
      "4\n",
      "5\n",
      "6\n",
      "7\n",
      "8\n",
      "9\n",
      "10\n"
     ]
    }
   ],
   "source": [
    "#6.2\n",
    "#This loop takes a set input num, and using a <= evaluation statement, will iterate through the loop until the input num is no longer <= to the number prescribed\n",
    "\n",
    "num = 1\n",
    "\n",
    "while num <= 10:\n",
    "    print(num)\n",
    "    num += 1"
   ]
  },
  {
   "cell_type": "markdown",
   "id": "7ff114e4",
   "metadata": {},
   "source": [
    "### Exercise 6.3: Using a for loop and continue statement, print all odd numbers from 1 to 20."
   ]
  },
  {
   "cell_type": "code",
   "execution_count": 56,
   "id": "a164fa73",
   "metadata": {},
   "outputs": [
    {
     "name": "stdout",
     "output_type": "stream",
     "text": [
      "1\n",
      "3\n",
      "5\n",
      "7\n",
      "9\n",
      "11\n",
      "13\n",
      "15\n",
      "17\n",
      "19\n"
     ]
    }
   ],
   "source": [
    "#6.3\n",
    "# If we want to print n numbers, we must iterate through range(n+1)\n",
    "# This for loop iterates through the specified range and uses the modulus operator to determine if the num is even\n",
    "# If the num is even, the continue statement bumps back to the top of the loop, and if the num is odd, the continue condition is not met and the num will print\n",
    "\n",
    "for num in range(21):\n",
    "    if num % 2 == 0:\n",
    "        continue\n",
    "    print(num)"
   ]
  },
  {
   "cell_type": "markdown",
   "id": "a16a9648",
   "metadata": {},
   "source": [
    "### Exercise 6.4: Using a for loop and break statement, print all even numbers from 1 to 20, break at 10."
   ]
  },
  {
   "cell_type": "code",
   "execution_count": 58,
   "id": "88e70601",
   "metadata": {},
   "outputs": [
    {
     "name": "stdout",
     "output_type": "stream",
     "text": [
      "0\n",
      "2\n",
      "4\n",
      "6\n",
      "8\n",
      "10\n"
     ]
    }
   ],
   "source": [
    "#6.4\n",
    "# If we want to print n numbers, we must iterate through range(n+1)\n",
    "# The break statement following the if num > 10 evaluator will exit the loop once the num > 10 condition is met\n",
    "# To print all even numbers, we use the modulus operator to evaluate if each num < 10 is even, and print if so\n",
    "\n",
    "for num in range(21):\n",
    "    if num > 10:\n",
    "        break\n",
    "    if num % 2 == 0:\n",
    "        print(num)"
   ]
  },
  {
   "cell_type": "code",
   "execution_count": null,
   "id": "8ad76017-b4f3-4f0c-b403-b04d31b2a822",
   "metadata": {},
   "outputs": [],
   "source": []
  }
 ],
 "metadata": {
  "kernelspec": {
   "display_name": "Python 3 (ipykernel)",
   "language": "python",
   "name": "python3"
  },
  "language_info": {
   "codemirror_mode": {
    "name": "ipython",
    "version": 3
   },
   "file_extension": ".py",
   "mimetype": "text/x-python",
   "name": "python",
   "nbconvert_exporter": "python",
   "pygments_lexer": "ipython3",
   "version": "3.12.4"
  }
 },
 "nbformat": 4,
 "nbformat_minor": 5
}
